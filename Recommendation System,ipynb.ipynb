{
 "cells": [
  {
   "cell_type": "markdown",
   "id": "a05f747f",
   "metadata": {},
   "source": [
    "# Reading and Cleaning Data"
   ]
  },
  {
   "cell_type": "code",
   "execution_count": 558,
   "id": "156f113c",
   "metadata": {},
   "outputs": [],
   "source": [
    "datafile = open(\"u.data\", \"r\")\n",
    "datafile1=open(\"u.item\",\"r\")"
   ]
  },
  {
   "cell_type": "code",
   "execution_count": 559,
   "id": "2c63f55d",
   "metadata": {},
   "outputs": [],
   "source": [
    "import pandas as pd\n",
    "data = pd.read_csv(\"u.data\", sep='\\t', names=[\"UserID\", \"movie id\", \"Rating\", \"Timestamp\"])"
   ]
  },
  {
   "cell_type": "code",
   "execution_count": 560,
   "id": "ddce557c",
   "metadata": {},
   "outputs": [
    {
     "data": {
      "text/html": [
       "<div>\n",
       "<style scoped>\n",
       "    .dataframe tbody tr th:only-of-type {\n",
       "        vertical-align: middle;\n",
       "    }\n",
       "\n",
       "    .dataframe tbody tr th {\n",
       "        vertical-align: top;\n",
       "    }\n",
       "\n",
       "    .dataframe thead th {\n",
       "        text-align: right;\n",
       "    }\n",
       "</style>\n",
       "<table border=\"1\" class=\"dataframe\">\n",
       "  <thead>\n",
       "    <tr style=\"text-align: right;\">\n",
       "      <th></th>\n",
       "      <th>UserID</th>\n",
       "      <th>movie id</th>\n",
       "      <th>Rating</th>\n",
       "      <th>Timestamp</th>\n",
       "    </tr>\n",
       "  </thead>\n",
       "  <tbody>\n",
       "    <tr>\n",
       "      <th>0</th>\n",
       "      <td>196</td>\n",
       "      <td>242</td>\n",
       "      <td>3</td>\n",
       "      <td>881250949</td>\n",
       "    </tr>\n",
       "    <tr>\n",
       "      <th>1</th>\n",
       "      <td>186</td>\n",
       "      <td>302</td>\n",
       "      <td>3</td>\n",
       "      <td>891717742</td>\n",
       "    </tr>\n",
       "    <tr>\n",
       "      <th>2</th>\n",
       "      <td>22</td>\n",
       "      <td>377</td>\n",
       "      <td>1</td>\n",
       "      <td>878887116</td>\n",
       "    </tr>\n",
       "    <tr>\n",
       "      <th>3</th>\n",
       "      <td>244</td>\n",
       "      <td>51</td>\n",
       "      <td>2</td>\n",
       "      <td>880606923</td>\n",
       "    </tr>\n",
       "    <tr>\n",
       "      <th>4</th>\n",
       "      <td>166</td>\n",
       "      <td>346</td>\n",
       "      <td>1</td>\n",
       "      <td>886397596</td>\n",
       "    </tr>\n",
       "  </tbody>\n",
       "</table>\n",
       "</div>"
      ],
      "text/plain": [
       "   UserID  movie id  Rating  Timestamp\n",
       "0     196       242       3  881250949\n",
       "1     186       302       3  891717742\n",
       "2      22       377       1  878887116\n",
       "3     244        51       2  880606923\n",
       "4     166       346       1  886397596"
      ]
     },
     "execution_count": 560,
     "metadata": {},
     "output_type": "execute_result"
    }
   ],
   "source": [
    "data.head()"
   ]
  },
  {
   "cell_type": "code",
   "execution_count": 561,
   "id": "dd80c009",
   "metadata": {},
   "outputs": [],
   "source": [
    "data['Timestamp'] = pd.to_datetime(data['Timestamp'], unit='s')"
   ]
  },
  {
   "cell_type": "code",
   "execution_count": 562,
   "id": "32f3dae7",
   "metadata": {},
   "outputs": [
    {
     "data": {
      "text/plain": [
       "0       1997-12-04 15:55:49\n",
       "1       1998-04-04 19:22:22\n",
       "2       1997-11-07 07:18:36\n",
       "3       1997-11-27 05:02:03\n",
       "4       1998-02-02 05:33:16\n",
       "                ...        \n",
       "99995   1997-11-22 05:10:44\n",
       "99996   1997-11-17 19:39:03\n",
       "99997   1997-09-20 22:49:55\n",
       "99998   1997-12-17 22:52:36\n",
       "99999   1997-11-19 17:13:03\n",
       "Name: Timestamp, Length: 100000, dtype: datetime64[ns]"
      ]
     },
     "execution_count": 562,
     "metadata": {},
     "output_type": "execute_result"
    }
   ],
   "source": [
    "data[\"Timestamp\"]"
   ]
  },
  {
   "cell_type": "code",
   "execution_count": 563,
   "id": "341e0c84",
   "metadata": {
    "scrolled": true
   },
   "outputs": [
    {
     "data": {
      "text/html": [
       "<div>\n",
       "<style scoped>\n",
       "    .dataframe tbody tr th:only-of-type {\n",
       "        vertical-align: middle;\n",
       "    }\n",
       "\n",
       "    .dataframe tbody tr th {\n",
       "        vertical-align: top;\n",
       "    }\n",
       "\n",
       "    .dataframe thead th {\n",
       "        text-align: right;\n",
       "    }\n",
       "</style>\n",
       "<table border=\"1\" class=\"dataframe\">\n",
       "  <thead>\n",
       "    <tr style=\"text-align: right;\">\n",
       "      <th></th>\n",
       "      <th>UserID</th>\n",
       "      <th>movie id</th>\n",
       "      <th>Rating</th>\n",
       "      <th>Timestamp</th>\n",
       "    </tr>\n",
       "  </thead>\n",
       "  <tbody>\n",
       "    <tr>\n",
       "      <th>0</th>\n",
       "      <td>196</td>\n",
       "      <td>242</td>\n",
       "      <td>3</td>\n",
       "      <td>1997-12-04 15:55:49</td>\n",
       "    </tr>\n",
       "    <tr>\n",
       "      <th>1</th>\n",
       "      <td>186</td>\n",
       "      <td>302</td>\n",
       "      <td>3</td>\n",
       "      <td>1998-04-04 19:22:22</td>\n",
       "    </tr>\n",
       "    <tr>\n",
       "      <th>2</th>\n",
       "      <td>22</td>\n",
       "      <td>377</td>\n",
       "      <td>1</td>\n",
       "      <td>1997-11-07 07:18:36</td>\n",
       "    </tr>\n",
       "    <tr>\n",
       "      <th>3</th>\n",
       "      <td>244</td>\n",
       "      <td>51</td>\n",
       "      <td>2</td>\n",
       "      <td>1997-11-27 05:02:03</td>\n",
       "    </tr>\n",
       "    <tr>\n",
       "      <th>4</th>\n",
       "      <td>166</td>\n",
       "      <td>346</td>\n",
       "      <td>1</td>\n",
       "      <td>1998-02-02 05:33:16</td>\n",
       "    </tr>\n",
       "  </tbody>\n",
       "</table>\n",
       "</div>"
      ],
      "text/plain": [
       "   UserID  movie id  Rating           Timestamp\n",
       "0     196       242       3 1997-12-04 15:55:49\n",
       "1     186       302       3 1998-04-04 19:22:22\n",
       "2      22       377       1 1997-11-07 07:18:36\n",
       "3     244        51       2 1997-11-27 05:02:03\n",
       "4     166       346       1 1998-02-02 05:33:16"
      ]
     },
     "execution_count": 563,
     "metadata": {},
     "output_type": "execute_result"
    }
   ],
   "source": [
    "data.head()"
   ]
  },
  {
   "cell_type": "code",
   "execution_count": 564,
   "id": "ee34f5d0",
   "metadata": {
    "scrolled": true
   },
   "outputs": [
    {
     "data": {
      "text/html": [
       "<div>\n",
       "<style scoped>\n",
       "    .dataframe tbody tr th:only-of-type {\n",
       "        vertical-align: middle;\n",
       "    }\n",
       "\n",
       "    .dataframe tbody tr th {\n",
       "        vertical-align: top;\n",
       "    }\n",
       "\n",
       "    .dataframe thead th {\n",
       "        text-align: right;\n",
       "    }\n",
       "</style>\n",
       "<table border=\"1\" class=\"dataframe\">\n",
       "  <thead>\n",
       "    <tr style=\"text-align: right;\">\n",
       "      <th></th>\n",
       "      <th>UserID</th>\n",
       "      <th>movie id</th>\n",
       "      <th>Rating</th>\n",
       "    </tr>\n",
       "  </thead>\n",
       "  <tbody>\n",
       "    <tr>\n",
       "      <th>0</th>\n",
       "      <td>196</td>\n",
       "      <td>242</td>\n",
       "      <td>3</td>\n",
       "    </tr>\n",
       "    <tr>\n",
       "      <th>1</th>\n",
       "      <td>186</td>\n",
       "      <td>302</td>\n",
       "      <td>3</td>\n",
       "    </tr>\n",
       "    <tr>\n",
       "      <th>2</th>\n",
       "      <td>22</td>\n",
       "      <td>377</td>\n",
       "      <td>1</td>\n",
       "    </tr>\n",
       "    <tr>\n",
       "      <th>3</th>\n",
       "      <td>244</td>\n",
       "      <td>51</td>\n",
       "      <td>2</td>\n",
       "    </tr>\n",
       "    <tr>\n",
       "      <th>4</th>\n",
       "      <td>166</td>\n",
       "      <td>346</td>\n",
       "      <td>1</td>\n",
       "    </tr>\n",
       "  </tbody>\n",
       "</table>\n",
       "</div>"
      ],
      "text/plain": [
       "   UserID  movie id  Rating\n",
       "0     196       242       3\n",
       "1     186       302       3\n",
       "2      22       377       1\n",
       "3     244        51       2\n",
       "4     166       346       1"
      ]
     },
     "execution_count": 564,
     "metadata": {},
     "output_type": "execute_result"
    }
   ],
   "source": [
    "data=data.drop([\"Timestamp\"],axis=1)\n",
    "data.head()"
   ]
  },
  {
   "cell_type": "code",
   "execution_count": 565,
   "id": "3c1c6ce1",
   "metadata": {},
   "outputs": [
    {
     "data": {
      "text/plain": [
       "['movie id',\n",
       " 'movie title',\n",
       " 'release date',\n",
       " 'video release date',\n",
       " 'IMDb URL',\n",
       " 'unknown',\n",
       " 'Action',\n",
       " 'Adventure',\n",
       " 'Animation',\n",
       " 'Children',\n",
       " 'Comedy',\n",
       " 'Crime',\n",
       " 'Documentary',\n",
       " 'Drama',\n",
       " 'Fantasy',\n",
       " 'Film-Noir',\n",
       " 'Horror',\n",
       " 'Musical',\n",
       " 'Mystery',\n",
       " 'Romance',\n",
       " 'Sci-Fi',\n",
       " 'Thriller',\n",
       " 'War',\n",
       " 'Western']"
      ]
     },
     "execution_count": 565,
     "metadata": {},
     "output_type": "execute_result"
    }
   ],
   "source": [
    "d = 'movie id | movie title | release date | video release date | IMDb URL | unknown | Action | Adventure | Animation | Children | Comedy | Crime | Documentary | Drama | Fantasy | Film-Noir | Horror | Musical | Mystery | Romance | Sci-Fi | Thriller | War | Western'\n",
    "column_names2 = d.split(' | ')\n",
    "column_names2"
   ]
  },
  {
   "cell_type": "code",
   "execution_count": 566,
   "id": "6c827c2e",
   "metadata": {},
   "outputs": [
    {
     "data": {
      "text/html": [
       "<div>\n",
       "<style scoped>\n",
       "    .dataframe tbody tr th:only-of-type {\n",
       "        vertical-align: middle;\n",
       "    }\n",
       "\n",
       "    .dataframe tbody tr th {\n",
       "        vertical-align: top;\n",
       "    }\n",
       "\n",
       "    .dataframe thead th {\n",
       "        text-align: right;\n",
       "    }\n",
       "</style>\n",
       "<table border=\"1\" class=\"dataframe\">\n",
       "  <thead>\n",
       "    <tr style=\"text-align: right;\">\n",
       "      <th></th>\n",
       "      <th>movie id</th>\n",
       "      <th>movie title</th>\n",
       "      <th>release date</th>\n",
       "      <th>video release date</th>\n",
       "      <th>IMDb URL</th>\n",
       "      <th>unknown</th>\n",
       "      <th>Action</th>\n",
       "      <th>Adventure</th>\n",
       "      <th>Animation</th>\n",
       "      <th>Children</th>\n",
       "      <th>...</th>\n",
       "      <th>Fantasy</th>\n",
       "      <th>Film-Noir</th>\n",
       "      <th>Horror</th>\n",
       "      <th>Musical</th>\n",
       "      <th>Mystery</th>\n",
       "      <th>Romance</th>\n",
       "      <th>Sci-Fi</th>\n",
       "      <th>Thriller</th>\n",
       "      <th>War</th>\n",
       "      <th>Western</th>\n",
       "    </tr>\n",
       "  </thead>\n",
       "  <tbody>\n",
       "    <tr>\n",
       "      <th>0</th>\n",
       "      <td>1</td>\n",
       "      <td>Toy Story (1995)</td>\n",
       "      <td>01-Jan-1995</td>\n",
       "      <td>NaN</td>\n",
       "      <td>http://us.imdb.com/M/title-exact?Toy%20Story%2...</td>\n",
       "      <td>0</td>\n",
       "      <td>0</td>\n",
       "      <td>0</td>\n",
       "      <td>1</td>\n",
       "      <td>1</td>\n",
       "      <td>...</td>\n",
       "      <td>0</td>\n",
       "      <td>0</td>\n",
       "      <td>0</td>\n",
       "      <td>0</td>\n",
       "      <td>0</td>\n",
       "      <td>0</td>\n",
       "      <td>0</td>\n",
       "      <td>0</td>\n",
       "      <td>0</td>\n",
       "      <td>0</td>\n",
       "    </tr>\n",
       "    <tr>\n",
       "      <th>1</th>\n",
       "      <td>2</td>\n",
       "      <td>GoldenEye (1995)</td>\n",
       "      <td>01-Jan-1995</td>\n",
       "      <td>NaN</td>\n",
       "      <td>http://us.imdb.com/M/title-exact?GoldenEye%20(...</td>\n",
       "      <td>0</td>\n",
       "      <td>1</td>\n",
       "      <td>1</td>\n",
       "      <td>0</td>\n",
       "      <td>0</td>\n",
       "      <td>...</td>\n",
       "      <td>0</td>\n",
       "      <td>0</td>\n",
       "      <td>0</td>\n",
       "      <td>0</td>\n",
       "      <td>0</td>\n",
       "      <td>0</td>\n",
       "      <td>0</td>\n",
       "      <td>1</td>\n",
       "      <td>0</td>\n",
       "      <td>0</td>\n",
       "    </tr>\n",
       "    <tr>\n",
       "      <th>2</th>\n",
       "      <td>3</td>\n",
       "      <td>Four Rooms (1995)</td>\n",
       "      <td>01-Jan-1995</td>\n",
       "      <td>NaN</td>\n",
       "      <td>http://us.imdb.com/M/title-exact?Four%20Rooms%...</td>\n",
       "      <td>0</td>\n",
       "      <td>0</td>\n",
       "      <td>0</td>\n",
       "      <td>0</td>\n",
       "      <td>0</td>\n",
       "      <td>...</td>\n",
       "      <td>0</td>\n",
       "      <td>0</td>\n",
       "      <td>0</td>\n",
       "      <td>0</td>\n",
       "      <td>0</td>\n",
       "      <td>0</td>\n",
       "      <td>0</td>\n",
       "      <td>1</td>\n",
       "      <td>0</td>\n",
       "      <td>0</td>\n",
       "    </tr>\n",
       "    <tr>\n",
       "      <th>3</th>\n",
       "      <td>4</td>\n",
       "      <td>Get Shorty (1995)</td>\n",
       "      <td>01-Jan-1995</td>\n",
       "      <td>NaN</td>\n",
       "      <td>http://us.imdb.com/M/title-exact?Get%20Shorty%...</td>\n",
       "      <td>0</td>\n",
       "      <td>1</td>\n",
       "      <td>0</td>\n",
       "      <td>0</td>\n",
       "      <td>0</td>\n",
       "      <td>...</td>\n",
       "      <td>0</td>\n",
       "      <td>0</td>\n",
       "      <td>0</td>\n",
       "      <td>0</td>\n",
       "      <td>0</td>\n",
       "      <td>0</td>\n",
       "      <td>0</td>\n",
       "      <td>0</td>\n",
       "      <td>0</td>\n",
       "      <td>0</td>\n",
       "    </tr>\n",
       "    <tr>\n",
       "      <th>4</th>\n",
       "      <td>5</td>\n",
       "      <td>Copycat (1995)</td>\n",
       "      <td>01-Jan-1995</td>\n",
       "      <td>NaN</td>\n",
       "      <td>http://us.imdb.com/M/title-exact?Copycat%20(1995)</td>\n",
       "      <td>0</td>\n",
       "      <td>0</td>\n",
       "      <td>0</td>\n",
       "      <td>0</td>\n",
       "      <td>0</td>\n",
       "      <td>...</td>\n",
       "      <td>0</td>\n",
       "      <td>0</td>\n",
       "      <td>0</td>\n",
       "      <td>0</td>\n",
       "      <td>0</td>\n",
       "      <td>0</td>\n",
       "      <td>0</td>\n",
       "      <td>1</td>\n",
       "      <td>0</td>\n",
       "      <td>0</td>\n",
       "    </tr>\n",
       "  </tbody>\n",
       "</table>\n",
       "<p>5 rows × 24 columns</p>\n",
       "</div>"
      ],
      "text/plain": [
       "   movie id        movie title release date  video release date  \\\n",
       "0         1   Toy Story (1995)  01-Jan-1995                 NaN   \n",
       "1         2   GoldenEye (1995)  01-Jan-1995                 NaN   \n",
       "2         3  Four Rooms (1995)  01-Jan-1995                 NaN   \n",
       "3         4  Get Shorty (1995)  01-Jan-1995                 NaN   \n",
       "4         5     Copycat (1995)  01-Jan-1995                 NaN   \n",
       "\n",
       "                                            IMDb URL  unknown  Action  \\\n",
       "0  http://us.imdb.com/M/title-exact?Toy%20Story%2...        0       0   \n",
       "1  http://us.imdb.com/M/title-exact?GoldenEye%20(...        0       1   \n",
       "2  http://us.imdb.com/M/title-exact?Four%20Rooms%...        0       0   \n",
       "3  http://us.imdb.com/M/title-exact?Get%20Shorty%...        0       1   \n",
       "4  http://us.imdb.com/M/title-exact?Copycat%20(1995)        0       0   \n",
       "\n",
       "   Adventure  Animation  Children  ...  Fantasy  Film-Noir  Horror  Musical  \\\n",
       "0          0          1         1  ...        0          0       0        0   \n",
       "1          1          0         0  ...        0          0       0        0   \n",
       "2          0          0         0  ...        0          0       0        0   \n",
       "3          0          0         0  ...        0          0       0        0   \n",
       "4          0          0         0  ...        0          0       0        0   \n",
       "\n",
       "   Mystery  Romance  Sci-Fi  Thriller  War  Western  \n",
       "0        0        0       0         0    0        0  \n",
       "1        0        0       0         1    0        0  \n",
       "2        0        0       0         1    0        0  \n",
       "3        0        0       0         0    0        0  \n",
       "4        0        0       0         1    0        0  \n",
       "\n",
       "[5 rows x 24 columns]"
      ]
     },
     "execution_count": 566,
     "metadata": {},
     "output_type": "execute_result"
    }
   ],
   "source": [
    "movies_dataset = pd.read_csv('u.item', sep='|',header=None,names=column_names2,encoding='latin-1')\n",
    "movies_dataset.head()"
   ]
  },
  {
   "cell_type": "code",
   "execution_count": 567,
   "id": "501fd677",
   "metadata": {},
   "outputs": [
    {
     "data": {
      "text/plain": [
       "['user_id', 'gender', 'zipcode', 'age_desc', 'occ_desc']"
      ]
     },
     "execution_count": 567,
     "metadata": {},
     "output_type": "execute_result"
    }
   ],
   "source": [
    "d = 'user_id | gender | zipcode | age_desc | occ_desc'\n",
    "column_names3 = d.split(' | ')\n",
    "column_names3"
   ]
  },
  {
   "cell_type": "code",
   "execution_count": 568,
   "id": "de302027",
   "metadata": {
    "scrolled": true
   },
   "outputs": [
    {
     "data": {
      "text/html": [
       "<div>\n",
       "<style scoped>\n",
       "    .dataframe tbody tr th:only-of-type {\n",
       "        vertical-align: middle;\n",
       "    }\n",
       "\n",
       "    .dataframe tbody tr th {\n",
       "        vertical-align: top;\n",
       "    }\n",
       "\n",
       "    .dataframe thead th {\n",
       "        text-align: right;\n",
       "    }\n",
       "</style>\n",
       "<table border=\"1\" class=\"dataframe\">\n",
       "  <thead>\n",
       "    <tr style=\"text-align: right;\">\n",
       "      <th></th>\n",
       "      <th>user_id</th>\n",
       "      <th>gender</th>\n",
       "      <th>zipcode</th>\n",
       "      <th>age_desc</th>\n",
       "      <th>occ_desc</th>\n",
       "    </tr>\n",
       "  </thead>\n",
       "  <tbody>\n",
       "    <tr>\n",
       "      <th>0</th>\n",
       "      <td>1</td>\n",
       "      <td>24</td>\n",
       "      <td>M</td>\n",
       "      <td>technician</td>\n",
       "      <td>85711</td>\n",
       "    </tr>\n",
       "    <tr>\n",
       "      <th>1</th>\n",
       "      <td>2</td>\n",
       "      <td>53</td>\n",
       "      <td>F</td>\n",
       "      <td>other</td>\n",
       "      <td>94043</td>\n",
       "    </tr>\n",
       "    <tr>\n",
       "      <th>2</th>\n",
       "      <td>3</td>\n",
       "      <td>23</td>\n",
       "      <td>M</td>\n",
       "      <td>writer</td>\n",
       "      <td>32067</td>\n",
       "    </tr>\n",
       "    <tr>\n",
       "      <th>3</th>\n",
       "      <td>4</td>\n",
       "      <td>24</td>\n",
       "      <td>M</td>\n",
       "      <td>technician</td>\n",
       "      <td>43537</td>\n",
       "    </tr>\n",
       "    <tr>\n",
       "      <th>4</th>\n",
       "      <td>5</td>\n",
       "      <td>33</td>\n",
       "      <td>F</td>\n",
       "      <td>other</td>\n",
       "      <td>15213</td>\n",
       "    </tr>\n",
       "  </tbody>\n",
       "</table>\n",
       "</div>"
      ],
      "text/plain": [
       "   user_id  gender zipcode    age_desc occ_desc\n",
       "0        1      24       M  technician    85711\n",
       "1        2      53       F       other    94043\n",
       "2        3      23       M      writer    32067\n",
       "3        4      24       M  technician    43537\n",
       "4        5      33       F       other    15213"
      ]
     },
     "execution_count": 568,
     "metadata": {},
     "output_type": "execute_result"
    }
   ],
   "source": [
    "user_dataset = pd.read_csv('u.user', sep='|',header=None,names=column_names3, encoding='latin-1')\n",
    "user_dataset.head()"
   ]
  },
  {
   "cell_type": "markdown",
   "id": "1e3e9863",
   "metadata": {},
   "source": [
    "## Data Pre-Processing"
   ]
  },
  {
   "cell_type": "code",
   "execution_count": 569,
   "id": "50ba865f",
   "metadata": {},
   "outputs": [
    {
     "name": "stdout",
     "output_type": "stream",
     "text": [
      "      MovieID                                movie_title  \\\n",
      "0           1                           Toy Story (1995)   \n",
      "1           2                           GoldenEye (1995)   \n",
      "2           3                          Four Rooms (1995)   \n",
      "3           4                          Get Shorty (1995)   \n",
      "4           5                             Copycat (1995)   \n",
      "...       ...                                        ...   \n",
      "1677     1678                          Mat' i syn (1997)   \n",
      "1678     1679                           B. Monkey (1998)   \n",
      "1679     1680                       Sliding Doors (1998)   \n",
      "1680     1681                        You So Crazy (1994)   \n",
      "1681     1682  Scream of Stone (Schrei aus Stein) (1991)   \n",
      "\n",
      "                          genre  \n",
      "0     Animation|Children|Comedy  \n",
      "1     Action|Adventure|Thriller  \n",
      "2                      Thriller  \n",
      "3           Action|Comedy|Drama  \n",
      "4          Crime|Drama|Thriller  \n",
      "...                         ...  \n",
      "1677                      Drama  \n",
      "1678           Romance|Thriller  \n",
      "1679              Drama|Romance  \n",
      "1680                     Comedy  \n",
      "1681                      Drama  \n",
      "\n",
      "[1682 rows x 3 columns]\n"
     ]
    }
   ],
   "source": [
    "\n",
    "movie_genre = column_names2[-19:]\n",
    "\n",
    "new_data = []\n",
    "\n",
    "for _, row in movies_dataset.iterrows():\n",
    "    movie_id = row['movie id']\n",
    "    movie_title = row['movie title']\n",
    "    genres = '|'.join([genre for genre in movie_genre if row[genre] == 1])\n",
    "    new_data.append([movie_id, movie_title, genres])\n",
    "\n",
    "new_df = pd.DataFrame(new_data, columns=['MovieID', 'movie_title', 'genre'])\n",
    "print(new_df)\n"
   ]
  },
  {
   "cell_type": "code",
   "execution_count": 570,
   "id": "0fffc04d",
   "metadata": {},
   "outputs": [
    {
     "data": {
      "text/html": [
       "<div>\n",
       "<style scoped>\n",
       "    .dataframe tbody tr th:only-of-type {\n",
       "        vertical-align: middle;\n",
       "    }\n",
       "\n",
       "    .dataframe tbody tr th {\n",
       "        vertical-align: top;\n",
       "    }\n",
       "\n",
       "    .dataframe thead th {\n",
       "        text-align: right;\n",
       "    }\n",
       "</style>\n",
       "<table border=\"1\" class=\"dataframe\">\n",
       "  <thead>\n",
       "    <tr style=\"text-align: right;\">\n",
       "      <th></th>\n",
       "      <th>MovieID</th>\n",
       "      <th>movie_title</th>\n",
       "      <th>genre</th>\n",
       "    </tr>\n",
       "  </thead>\n",
       "  <tbody>\n",
       "    <tr>\n",
       "      <th>0</th>\n",
       "      <td>1</td>\n",
       "      <td>Toy Story (1995)</td>\n",
       "      <td>Animation|Children|Comedy</td>\n",
       "    </tr>\n",
       "    <tr>\n",
       "      <th>1</th>\n",
       "      <td>2</td>\n",
       "      <td>GoldenEye (1995)</td>\n",
       "      <td>Action|Adventure|Thriller</td>\n",
       "    </tr>\n",
       "    <tr>\n",
       "      <th>2</th>\n",
       "      <td>3</td>\n",
       "      <td>Four Rooms (1995)</td>\n",
       "      <td>Thriller</td>\n",
       "    </tr>\n",
       "    <tr>\n",
       "      <th>3</th>\n",
       "      <td>4</td>\n",
       "      <td>Get Shorty (1995)</td>\n",
       "      <td>Action|Comedy|Drama</td>\n",
       "    </tr>\n",
       "    <tr>\n",
       "      <th>4</th>\n",
       "      <td>5</td>\n",
       "      <td>Copycat (1995)</td>\n",
       "      <td>Crime|Drama|Thriller</td>\n",
       "    </tr>\n",
       "    <tr>\n",
       "      <th>...</th>\n",
       "      <td>...</td>\n",
       "      <td>...</td>\n",
       "      <td>...</td>\n",
       "    </tr>\n",
       "    <tr>\n",
       "      <th>1677</th>\n",
       "      <td>1678</td>\n",
       "      <td>Mat' i syn (1997)</td>\n",
       "      <td>Drama</td>\n",
       "    </tr>\n",
       "    <tr>\n",
       "      <th>1678</th>\n",
       "      <td>1679</td>\n",
       "      <td>B. Monkey (1998)</td>\n",
       "      <td>Romance|Thriller</td>\n",
       "    </tr>\n",
       "    <tr>\n",
       "      <th>1679</th>\n",
       "      <td>1680</td>\n",
       "      <td>Sliding Doors (1998)</td>\n",
       "      <td>Drama|Romance</td>\n",
       "    </tr>\n",
       "    <tr>\n",
       "      <th>1680</th>\n",
       "      <td>1681</td>\n",
       "      <td>You So Crazy (1994)</td>\n",
       "      <td>Comedy</td>\n",
       "    </tr>\n",
       "    <tr>\n",
       "      <th>1681</th>\n",
       "      <td>1682</td>\n",
       "      <td>Scream of Stone (Schrei aus Stein) (1991)</td>\n",
       "      <td>Drama</td>\n",
       "    </tr>\n",
       "  </tbody>\n",
       "</table>\n",
       "<p>1682 rows × 3 columns</p>\n",
       "</div>"
      ],
      "text/plain": [
       "      MovieID                                movie_title  \\\n",
       "0           1                           Toy Story (1995)   \n",
       "1           2                           GoldenEye (1995)   \n",
       "2           3                          Four Rooms (1995)   \n",
       "3           4                          Get Shorty (1995)   \n",
       "4           5                             Copycat (1995)   \n",
       "...       ...                                        ...   \n",
       "1677     1678                          Mat' i syn (1997)   \n",
       "1678     1679                           B. Monkey (1998)   \n",
       "1679     1680                       Sliding Doors (1998)   \n",
       "1680     1681                        You So Crazy (1994)   \n",
       "1681     1682  Scream of Stone (Schrei aus Stein) (1991)   \n",
       "\n",
       "                          genre  \n",
       "0     Animation|Children|Comedy  \n",
       "1     Action|Adventure|Thriller  \n",
       "2                      Thriller  \n",
       "3           Action|Comedy|Drama  \n",
       "4          Crime|Drama|Thriller  \n",
       "...                         ...  \n",
       "1677                      Drama  \n",
       "1678           Romance|Thriller  \n",
       "1679              Drama|Romance  \n",
       "1680                     Comedy  \n",
       "1681                      Drama  \n",
       "\n",
       "[1682 rows x 3 columns]"
      ]
     },
     "execution_count": 570,
     "metadata": {},
     "output_type": "execute_result"
    }
   ],
   "source": [
    "new_df"
   ]
  },
  {
   "cell_type": "markdown",
   "id": "ad53e0b1",
   "metadata": {},
   "source": [
    "# CONTENT BASED RECOMMENDATION"
   ]
  },
  {
   "cell_type": "markdown",
   "id": "896142aa",
   "metadata": {},
   "source": [
    "### Genre Based"
   ]
  },
  {
   "cell_type": "code",
   "execution_count": 571,
   "id": "8aaf9f2d",
   "metadata": {},
   "outputs": [],
   "source": [
    "# Break up the big genre string into a string array\n",
    "new_df['genre'] = new_df['genre'].str.split('|')\n",
    "# Convert genres to string value\n",
    "new_df['genre'] = new_df['genre'].fillna(\"\").astype('str')"
   ]
  },
  {
   "cell_type": "code",
   "execution_count": 572,
   "id": "de1acb0b",
   "metadata": {},
   "outputs": [
    {
     "data": {
      "text/plain": [
       "(1682, 252)"
      ]
     },
     "execution_count": 572,
     "metadata": {},
     "output_type": "execute_result"
    }
   ],
   "source": [
    "from sklearn.feature_extraction.text import TfidfVectorizer\n",
    "tfidf_vector = TfidfVectorizer(analyzer='word',ngram_range=(1, 3),min_df=0, stop_words='english')\n",
    "tfidf_matrix = tfidf_vector.fit_transform(new_df['genre'])\n",
    "tfidf_matrix.shape"
   ]
  },
  {
   "cell_type": "code",
   "execution_count": 573,
   "id": "6c33c50c",
   "metadata": {},
   "outputs": [
    {
     "data": {
      "text/plain": [
       "<1682x252 sparse matrix of type '<class 'numpy.float64'>'\n",
       "\twith 4831 stored elements in Compressed Sparse Row format>"
      ]
     },
     "execution_count": 573,
     "metadata": {},
     "output_type": "execute_result"
    }
   ],
   "source": [
    "tfidf_matrix"
   ]
  },
  {
   "cell_type": "code",
   "execution_count": 574,
   "id": "7eb2f87d",
   "metadata": {},
   "outputs": [
    {
     "data": {
      "text/plain": [
       "array([[1.        , 0.        , 0.        , 0.04014005],\n",
       "       [0.        , 1.        , 0.26955042, 0.07312989],\n",
       "       [0.        , 0.26955042, 1.        , 0.        ],\n",
       "       [0.04014005, 0.07312989, 0.        , 1.        ]])"
      ]
     },
     "execution_count": 574,
     "metadata": {},
     "output_type": "execute_result"
    }
   ],
   "source": [
    "from sklearn.metrics.pairwise import linear_kernel\n",
    "cos_similarity = linear_kernel(tfidf_matrix, tfidf_matrix)\n",
    "cos_similarity[:4, :4]"
   ]
  },
  {
   "cell_type": "code",
   "execution_count": 575,
   "id": "0b1b0e80",
   "metadata": {},
   "outputs": [],
   "source": [
    "# Built 1-dimensional arrays with movie titles and indices\n",
    "titles = new_df['movie_title']\n",
    "indices = pd.Series(new_df.index, index=new_df['movie_title'])\n",
    "\n",
    "# Genre based recommendation on the basis of cosine similarity\n",
    "def genre_recommendations(title):\n",
    "    index = indices[title]\n",
    "    score_similarity = list(enumerate(cos_similarity[index]))\n",
    "    score_similarity = sorted(score_similarity, key=lambda x: x[1], reverse=True)\n",
    "    score_similarity = score_similarity[1:11]\n",
    "    movie_indices = [i[0] for i in score_similarity]\n",
    "    return titles.iloc[movie_indices]"
   ]
  },
  {
   "cell_type": "code",
   "execution_count": 576,
   "id": "b0b21aca",
   "metadata": {
    "scrolled": true
   },
   "outputs": [
    {
     "name": "stdout",
     "output_type": "stream",
     "text": [
      "Enter Movie name: Star Wars (1977)\n"
     ]
    },
    {
     "data": {
      "text/plain": [
       "180                             Return of the Jedi (1983)\n",
       "171                       Empire Strikes Back, The (1980)\n",
       "473     Dr. Strangelove or: How I Learned to Stop Worr...\n",
       "1238                              Cutthroat Island (1995)\n",
       "270                              Starship Troopers (1997)\n",
       "120                         Independence Day (ID4) (1996)\n",
       "497                             African Queen, The (1951)\n",
       "234                                  Mars Attacks! (1996)\n",
       "876                                 Excess Baggage (1997)\n",
       "946                 Big Blue, The (Grand bleu, Le) (1988)\n",
       "Name: movie_title, dtype: object"
      ]
     },
     "execution_count": 576,
     "metadata": {},
     "output_type": "execute_result"
    }
   ],
   "source": [
    "movie = str(input(\"Enter Movie name: \"))\n",
    "genre_recommendations(movie)"
   ]
  },
  {
   "cell_type": "markdown",
   "id": "6cbbf15d",
   "metadata": {},
   "source": [
    "### Popularity Based"
   ]
  },
  {
   "cell_type": "code",
   "execution_count": 577,
   "id": "1edcb530",
   "metadata": {},
   "outputs": [],
   "source": [
    "merge_dataset=pd.merge(data,movies_dataset,on=\"movie id\")\n",
    "merge_dataset=merge_dataset[['movie id','movie title','UserID','Rating']]"
   ]
  },
  {
   "cell_type": "code",
   "execution_count": 578,
   "id": "d286a28d",
   "metadata": {},
   "outputs": [
    {
     "data": {
      "text/html": [
       "<div>\n",
       "<style scoped>\n",
       "    .dataframe tbody tr th:only-of-type {\n",
       "        vertical-align: middle;\n",
       "    }\n",
       "\n",
       "    .dataframe tbody tr th {\n",
       "        vertical-align: top;\n",
       "    }\n",
       "\n",
       "    .dataframe thead th {\n",
       "        text-align: right;\n",
       "    }\n",
       "</style>\n",
       "<table border=\"1\" class=\"dataframe\">\n",
       "  <thead>\n",
       "    <tr style=\"text-align: right;\">\n",
       "      <th></th>\n",
       "      <th>movie id</th>\n",
       "      <th>movie title</th>\n",
       "      <th>UserID</th>\n",
       "      <th>Rating</th>\n",
       "    </tr>\n",
       "  </thead>\n",
       "  <tbody>\n",
       "    <tr>\n",
       "      <th>0</th>\n",
       "      <td>242</td>\n",
       "      <td>Kolya (1996)</td>\n",
       "      <td>196</td>\n",
       "      <td>3</td>\n",
       "    </tr>\n",
       "    <tr>\n",
       "      <th>1</th>\n",
       "      <td>242</td>\n",
       "      <td>Kolya (1996)</td>\n",
       "      <td>63</td>\n",
       "      <td>3</td>\n",
       "    </tr>\n",
       "    <tr>\n",
       "      <th>2</th>\n",
       "      <td>242</td>\n",
       "      <td>Kolya (1996)</td>\n",
       "      <td>226</td>\n",
       "      <td>5</td>\n",
       "    </tr>\n",
       "    <tr>\n",
       "      <th>3</th>\n",
       "      <td>242</td>\n",
       "      <td>Kolya (1996)</td>\n",
       "      <td>154</td>\n",
       "      <td>3</td>\n",
       "    </tr>\n",
       "    <tr>\n",
       "      <th>4</th>\n",
       "      <td>242</td>\n",
       "      <td>Kolya (1996)</td>\n",
       "      <td>306</td>\n",
       "      <td>5</td>\n",
       "    </tr>\n",
       "  </tbody>\n",
       "</table>\n",
       "</div>"
      ],
      "text/plain": [
       "   movie id   movie title  UserID  Rating\n",
       "0       242  Kolya (1996)     196       3\n",
       "1       242  Kolya (1996)      63       3\n",
       "2       242  Kolya (1996)     226       5\n",
       "3       242  Kolya (1996)     154       3\n",
       "4       242  Kolya (1996)     306       5"
      ]
     },
     "execution_count": 578,
     "metadata": {},
     "output_type": "execute_result"
    }
   ],
   "source": [
    "merge_dataset.head()"
   ]
  },
  {
   "cell_type": "code",
   "execution_count": 579,
   "id": "be30b32e",
   "metadata": {},
   "outputs": [],
   "source": [
    "def popularity_recommendation():\n",
    "    popular_movies = merge_dataset.groupby(['movie title']).agg({\"Rating\":\"count\"})['Rating'].sort_values(ascending=False)\n",
    "    popular_movies = popular_movies.to_frame()\n",
    "    popular_movies.reset_index(level=0, inplace=True)\n",
    "    popular_movies.columns = ['movie title', 'Number of Users watched']\n",
    "    return popular_movies"
   ]
  },
  {
   "cell_type": "code",
   "execution_count": 580,
   "id": "11b109ef",
   "metadata": {},
   "outputs": [
    {
     "data": {
      "text/html": [
       "<div>\n",
       "<style scoped>\n",
       "    .dataframe tbody tr th:only-of-type {\n",
       "        vertical-align: middle;\n",
       "    }\n",
       "\n",
       "    .dataframe tbody tr th {\n",
       "        vertical-align: top;\n",
       "    }\n",
       "\n",
       "    .dataframe thead th {\n",
       "        text-align: right;\n",
       "    }\n",
       "</style>\n",
       "<table border=\"1\" class=\"dataframe\">\n",
       "  <thead>\n",
       "    <tr style=\"text-align: right;\">\n",
       "      <th></th>\n",
       "      <th>movie title</th>\n",
       "      <th>Number of Users watched</th>\n",
       "    </tr>\n",
       "  </thead>\n",
       "  <tbody>\n",
       "    <tr>\n",
       "      <th>0</th>\n",
       "      <td>Star Wars (1977)</td>\n",
       "      <td>583</td>\n",
       "    </tr>\n",
       "    <tr>\n",
       "      <th>1</th>\n",
       "      <td>Contact (1997)</td>\n",
       "      <td>509</td>\n",
       "    </tr>\n",
       "    <tr>\n",
       "      <th>2</th>\n",
       "      <td>Fargo (1996)</td>\n",
       "      <td>508</td>\n",
       "    </tr>\n",
       "    <tr>\n",
       "      <th>3</th>\n",
       "      <td>Return of the Jedi (1983)</td>\n",
       "      <td>507</td>\n",
       "    </tr>\n",
       "    <tr>\n",
       "      <th>4</th>\n",
       "      <td>Liar Liar (1997)</td>\n",
       "      <td>485</td>\n",
       "    </tr>\n",
       "    <tr>\n",
       "      <th>...</th>\n",
       "      <td>...</td>\n",
       "      <td>...</td>\n",
       "    </tr>\n",
       "    <tr>\n",
       "      <th>1659</th>\n",
       "      <td>Great Day in Harlem, A (1994)</td>\n",
       "      <td>1</td>\n",
       "    </tr>\n",
       "    <tr>\n",
       "      <th>1660</th>\n",
       "      <td>Other Voices, Other Rooms (1997)</td>\n",
       "      <td>1</td>\n",
       "    </tr>\n",
       "    <tr>\n",
       "      <th>1661</th>\n",
       "      <td>Good Morning (1971)</td>\n",
       "      <td>1</td>\n",
       "    </tr>\n",
       "    <tr>\n",
       "      <th>1662</th>\n",
       "      <td>Girls Town (1996)</td>\n",
       "      <td>1</td>\n",
       "    </tr>\n",
       "    <tr>\n",
       "      <th>1663</th>\n",
       "      <td>Á köldum klaka (Cold Fever) (1994)</td>\n",
       "      <td>1</td>\n",
       "    </tr>\n",
       "  </tbody>\n",
       "</table>\n",
       "<p>1664 rows × 2 columns</p>\n",
       "</div>"
      ],
      "text/plain": [
       "                             movie title  Number of Users watched\n",
       "0                       Star Wars (1977)                      583\n",
       "1                         Contact (1997)                      509\n",
       "2                           Fargo (1996)                      508\n",
       "3              Return of the Jedi (1983)                      507\n",
       "4                       Liar Liar (1997)                      485\n",
       "...                                  ...                      ...\n",
       "1659       Great Day in Harlem, A (1994)                        1\n",
       "1660    Other Voices, Other Rooms (1997)                        1\n",
       "1661                 Good Morning (1971)                        1\n",
       "1662                   Girls Town (1996)                        1\n",
       "1663  Á köldum klaka (Cold Fever) (1994)                        1\n",
       "\n",
       "[1664 rows x 2 columns]"
      ]
     },
     "execution_count": 580,
     "metadata": {},
     "output_type": "execute_result"
    }
   ],
   "source": [
    "popularity_recommendation()"
   ]
  },
  {
   "cell_type": "code",
   "execution_count": 581,
   "id": "b5e40539",
   "metadata": {},
   "outputs": [
    {
     "data": {
      "text/html": [
       "<div>\n",
       "<style scoped>\n",
       "    .dataframe tbody tr th:only-of-type {\n",
       "        vertical-align: middle;\n",
       "    }\n",
       "\n",
       "    .dataframe tbody tr th {\n",
       "        vertical-align: top;\n",
       "    }\n",
       "\n",
       "    .dataframe thead th {\n",
       "        text-align: right;\n",
       "    }\n",
       "</style>\n",
       "<table border=\"1\" class=\"dataframe\">\n",
       "  <thead>\n",
       "    <tr style=\"text-align: right;\">\n",
       "      <th></th>\n",
       "      <th>movie title</th>\n",
       "      <th>Number of Users watched</th>\n",
       "    </tr>\n",
       "  </thead>\n",
       "  <tbody>\n",
       "    <tr>\n",
       "      <th>0</th>\n",
       "      <td>Star Wars (1977)</td>\n",
       "      <td>583</td>\n",
       "    </tr>\n",
       "    <tr>\n",
       "      <th>1</th>\n",
       "      <td>Contact (1997)</td>\n",
       "      <td>509</td>\n",
       "    </tr>\n",
       "    <tr>\n",
       "      <th>2</th>\n",
       "      <td>Fargo (1996)</td>\n",
       "      <td>508</td>\n",
       "    </tr>\n",
       "    <tr>\n",
       "      <th>3</th>\n",
       "      <td>Return of the Jedi (1983)</td>\n",
       "      <td>507</td>\n",
       "    </tr>\n",
       "    <tr>\n",
       "      <th>4</th>\n",
       "      <td>Liar Liar (1997)</td>\n",
       "      <td>485</td>\n",
       "    </tr>\n",
       "    <tr>\n",
       "      <th>5</th>\n",
       "      <td>English Patient, The (1996)</td>\n",
       "      <td>481</td>\n",
       "    </tr>\n",
       "    <tr>\n",
       "      <th>6</th>\n",
       "      <td>Scream (1996)</td>\n",
       "      <td>478</td>\n",
       "    </tr>\n",
       "    <tr>\n",
       "      <th>7</th>\n",
       "      <td>Toy Story (1995)</td>\n",
       "      <td>452</td>\n",
       "    </tr>\n",
       "    <tr>\n",
       "      <th>8</th>\n",
       "      <td>Air Force One (1997)</td>\n",
       "      <td>431</td>\n",
       "    </tr>\n",
       "    <tr>\n",
       "      <th>9</th>\n",
       "      <td>Independence Day (ID4) (1996)</td>\n",
       "      <td>429</td>\n",
       "    </tr>\n",
       "    <tr>\n",
       "      <th>10</th>\n",
       "      <td>Raiders of the Lost Ark (1981)</td>\n",
       "      <td>420</td>\n",
       "    </tr>\n",
       "    <tr>\n",
       "      <th>11</th>\n",
       "      <td>Godfather, The (1972)</td>\n",
       "      <td>413</td>\n",
       "    </tr>\n",
       "  </tbody>\n",
       "</table>\n",
       "</div>"
      ],
      "text/plain": [
       "                       movie title  Number of Users watched\n",
       "0                 Star Wars (1977)                      583\n",
       "1                   Contact (1997)                      509\n",
       "2                     Fargo (1996)                      508\n",
       "3        Return of the Jedi (1983)                      507\n",
       "4                 Liar Liar (1997)                      485\n",
       "5      English Patient, The (1996)                      481\n",
       "6                    Scream (1996)                      478\n",
       "7                 Toy Story (1995)                      452\n",
       "8             Air Force One (1997)                      431\n",
       "9    Independence Day (ID4) (1996)                      429\n",
       "10  Raiders of the Lost Ark (1981)                      420\n",
       "11           Godfather, The (1972)                      413"
      ]
     },
     "execution_count": 581,
     "metadata": {},
     "output_type": "execute_result"
    }
   ],
   "source": [
    "popularity_recommendation()[popularity_recommendation()['Number of Users watched'] >= 400]"
   ]
  },
  {
   "cell_type": "markdown",
   "id": "e5a530fb",
   "metadata": {},
   "source": [
    "### Average-Rating Based "
   ]
  },
  {
   "cell_type": "code",
   "execution_count": 582,
   "id": "426e4411",
   "metadata": {},
   "outputs": [],
   "source": [
    "def avg_rating_recommendations():\n",
    "    avg_rated_movies = merge_dataset.groupby('movie title')['Rating'].mean().sort_values(ascending=False)\n",
    "    avg_rated_movies = avg_rated_movies.to_frame()\n",
    "    avg_rated_movies.reset_index(level=0, inplace=True)\n",
    "    avg_rated_movies.columns = ['movie title', 'avg rating']\n",
    "    \n",
    "    return avg_rated_movies"
   ]
  },
  {
   "cell_type": "code",
   "execution_count": 583,
   "id": "a5abec57",
   "metadata": {},
   "outputs": [
    {
     "data": {
      "text/html": [
       "<div>\n",
       "<style scoped>\n",
       "    .dataframe tbody tr th:only-of-type {\n",
       "        vertical-align: middle;\n",
       "    }\n",
       "\n",
       "    .dataframe tbody tr th {\n",
       "        vertical-align: top;\n",
       "    }\n",
       "\n",
       "    .dataframe thead th {\n",
       "        text-align: right;\n",
       "    }\n",
       "</style>\n",
       "<table border=\"1\" class=\"dataframe\">\n",
       "  <thead>\n",
       "    <tr style=\"text-align: right;\">\n",
       "      <th></th>\n",
       "      <th>movie title</th>\n",
       "      <th>avg rating</th>\n",
       "    </tr>\n",
       "  </thead>\n",
       "  <tbody>\n",
       "    <tr>\n",
       "      <th>0</th>\n",
       "      <td>They Made Me a Criminal (1939)</td>\n",
       "      <td>5.0</td>\n",
       "    </tr>\n",
       "    <tr>\n",
       "      <th>1</th>\n",
       "      <td>Marlene Dietrich: Shadow and Light (1996)</td>\n",
       "      <td>5.0</td>\n",
       "    </tr>\n",
       "    <tr>\n",
       "      <th>2</th>\n",
       "      <td>Saint of Fort Washington, The (1993)</td>\n",
       "      <td>5.0</td>\n",
       "    </tr>\n",
       "    <tr>\n",
       "      <th>3</th>\n",
       "      <td>Someone Else's America (1995)</td>\n",
       "      <td>5.0</td>\n",
       "    </tr>\n",
       "    <tr>\n",
       "      <th>4</th>\n",
       "      <td>Star Kid (1997)</td>\n",
       "      <td>5.0</td>\n",
       "    </tr>\n",
       "    <tr>\n",
       "      <th>...</th>\n",
       "      <td>...</td>\n",
       "      <td>...</td>\n",
       "    </tr>\n",
       "    <tr>\n",
       "      <th>1659</th>\n",
       "      <td>Eye of Vichy, The (Oeil de Vichy, L') (1993)</td>\n",
       "      <td>1.0</td>\n",
       "    </tr>\n",
       "    <tr>\n",
       "      <th>1660</th>\n",
       "      <td>King of New York (1990)</td>\n",
       "      <td>1.0</td>\n",
       "    </tr>\n",
       "    <tr>\n",
       "      <th>1661</th>\n",
       "      <td>Touki Bouki (Journey of the Hyena) (1973)</td>\n",
       "      <td>1.0</td>\n",
       "    </tr>\n",
       "    <tr>\n",
       "      <th>1662</th>\n",
       "      <td>Bloody Child, The (1996)</td>\n",
       "      <td>1.0</td>\n",
       "    </tr>\n",
       "    <tr>\n",
       "      <th>1663</th>\n",
       "      <td>Crude Oasis, The (1995)</td>\n",
       "      <td>1.0</td>\n",
       "    </tr>\n",
       "  </tbody>\n",
       "</table>\n",
       "<p>1664 rows × 2 columns</p>\n",
       "</div>"
      ],
      "text/plain": [
       "                                       movie title  avg rating\n",
       "0                   They Made Me a Criminal (1939)         5.0\n",
       "1       Marlene Dietrich: Shadow and Light (1996)          5.0\n",
       "2             Saint of Fort Washington, The (1993)         5.0\n",
       "3                    Someone Else's America (1995)         5.0\n",
       "4                                  Star Kid (1997)         5.0\n",
       "...                                            ...         ...\n",
       "1659  Eye of Vichy, The (Oeil de Vichy, L') (1993)         1.0\n",
       "1660                       King of New York (1990)         1.0\n",
       "1661     Touki Bouki (Journey of the Hyena) (1973)         1.0\n",
       "1662                      Bloody Child, The (1996)         1.0\n",
       "1663                       Crude Oasis, The (1995)         1.0\n",
       "\n",
       "[1664 rows x 2 columns]"
      ]
     },
     "execution_count": 583,
     "metadata": {},
     "output_type": "execute_result"
    }
   ],
   "source": [
    "avg_rating_recommendations()"
   ]
  },
  {
   "cell_type": "code",
   "execution_count": 584,
   "id": "89eea0e9",
   "metadata": {
    "scrolled": true
   },
   "outputs": [
    {
     "data": {
      "text/html": [
       "<div>\n",
       "<style scoped>\n",
       "    .dataframe tbody tr th:only-of-type {\n",
       "        vertical-align: middle;\n",
       "    }\n",
       "\n",
       "    .dataframe tbody tr th {\n",
       "        vertical-align: top;\n",
       "    }\n",
       "\n",
       "    .dataframe thead th {\n",
       "        text-align: right;\n",
       "    }\n",
       "</style>\n",
       "<table border=\"1\" class=\"dataframe\">\n",
       "  <thead>\n",
       "    <tr style=\"text-align: right;\">\n",
       "      <th></th>\n",
       "      <th>movie title</th>\n",
       "      <th>avg rating</th>\n",
       "    </tr>\n",
       "  </thead>\n",
       "  <tbody>\n",
       "    <tr>\n",
       "      <th>0</th>\n",
       "      <td>They Made Me a Criminal (1939)</td>\n",
       "      <td>5.0</td>\n",
       "    </tr>\n",
       "    <tr>\n",
       "      <th>1</th>\n",
       "      <td>Marlene Dietrich: Shadow and Light (1996)</td>\n",
       "      <td>5.0</td>\n",
       "    </tr>\n",
       "    <tr>\n",
       "      <th>2</th>\n",
       "      <td>Saint of Fort Washington, The (1993)</td>\n",
       "      <td>5.0</td>\n",
       "    </tr>\n",
       "    <tr>\n",
       "      <th>3</th>\n",
       "      <td>Someone Else's America (1995)</td>\n",
       "      <td>5.0</td>\n",
       "    </tr>\n",
       "    <tr>\n",
       "      <th>4</th>\n",
       "      <td>Star Kid (1997)</td>\n",
       "      <td>5.0</td>\n",
       "    </tr>\n",
       "    <tr>\n",
       "      <th>...</th>\n",
       "      <td>...</td>\n",
       "      <td>...</td>\n",
       "    </tr>\n",
       "    <tr>\n",
       "      <th>168</th>\n",
       "      <td>I Don't Want to Talk About It (De eso no se ha...</td>\n",
       "      <td>4.0</td>\n",
       "    </tr>\n",
       "    <tr>\n",
       "      <th>169</th>\n",
       "      <td>Priest (1994)</td>\n",
       "      <td>4.0</td>\n",
       "    </tr>\n",
       "    <tr>\n",
       "      <th>170</th>\n",
       "      <td>Duck Soup (1933)</td>\n",
       "      <td>4.0</td>\n",
       "    </tr>\n",
       "    <tr>\n",
       "      <th>171</th>\n",
       "      <td>Wedding Gift, The (1994)</td>\n",
       "      <td>4.0</td>\n",
       "    </tr>\n",
       "    <tr>\n",
       "      <th>172</th>\n",
       "      <td>Killer: A Journal of Murder (1995)</td>\n",
       "      <td>4.0</td>\n",
       "    </tr>\n",
       "  </tbody>\n",
       "</table>\n",
       "<p>173 rows × 2 columns</p>\n",
       "</div>"
      ],
      "text/plain": [
       "                                           movie title  avg rating\n",
       "0                       They Made Me a Criminal (1939)         5.0\n",
       "1           Marlene Dietrich: Shadow and Light (1996)          5.0\n",
       "2                 Saint of Fort Washington, The (1993)         5.0\n",
       "3                        Someone Else's America (1995)         5.0\n",
       "4                                      Star Kid (1997)         5.0\n",
       "..                                                 ...         ...\n",
       "168  I Don't Want to Talk About It (De eso no se ha...         4.0\n",
       "169                                      Priest (1994)         4.0\n",
       "170                                   Duck Soup (1933)         4.0\n",
       "171                           Wedding Gift, The (1994)         4.0\n",
       "172                 Killer: A Journal of Murder (1995)         4.0\n",
       "\n",
       "[173 rows x 2 columns]"
      ]
     },
     "execution_count": 584,
     "metadata": {},
     "output_type": "execute_result"
    }
   ],
   "source": [
    "avg_rating_recommendations()[avg_rating_recommendations()['avg rating'] >= 4.0]"
   ]
  },
  {
   "cell_type": "code",
   "execution_count": 585,
   "id": "16b90398",
   "metadata": {},
   "outputs": [
    {
     "name": "stdout",
     "output_type": "stream",
     "text": [
      "Number of movies with Rating equal to 5 are : 10\n",
      "Number of movies with Rating greater than 4 and less than 5 are : 163\n",
      "Number of movies with Rating greater than 3 and less than 4 are : 871\n",
      "Number of movies with Rating greater than 2 and less than 3 are : 492\n",
      "Number of movies with Rating greater than 1 and less than 2 are : 128\n"
     ]
    }
   ],
   "source": [
    "print(\"Number of movies with Rating equal to 5 are : \"+ str(sum(avg_rating_recommendations()['avg rating'] == 5.0)))\n",
    "print(\"Number of movies with Rating greater than 4 and less than 5 are : \"+ str(sum(avg_rating_recommendations()['avg rating'] >= 4.0)-sum(avg_rating_recommendations()['avg rating'] == 5.0)))\n",
    "print(\"Number of movies with Rating greater than 3 and less than 4 are : \"+ str(sum(avg_rating_recommendations()['avg rating'] >= 3.0)-sum(avg_rating_recommendations()['avg rating'] >= 4.0)))\n",
    "print(\"Number of movies with Rating greater than 2 and less than 3 are : \"+ str(sum(avg_rating_recommendations()['avg rating'] >= 2.0)-sum(avg_rating_recommendations()['avg rating'] >= 3.0)))\n",
    "print(\"Number of movies with Rating greater than 1 and less than 2 are : \"+ str(sum(avg_rating_recommendations()['avg rating'] >= 1.0)-sum(avg_rating_recommendations()['avg rating'] >= 2.0)))"
   ]
  },
  {
   "cell_type": "markdown",
   "id": "7cf8a4fd",
   "metadata": {},
   "source": [
    "# Profile Based or Collaborative Filtering recommendation system"
   ]
  },
  {
   "cell_type": "markdown",
   "id": "424353f3",
   "metadata": {},
   "source": [
    "### Training Model for Item-based & User-based Collaborative recommendation system"
   ]
  },
  {
   "cell_type": "code",
   "execution_count": 586,
   "id": "1024fe00",
   "metadata": {},
   "outputs": [],
   "source": [
    "small_data = data.sample(frac=0.05)"
   ]
  },
  {
   "cell_type": "code",
   "execution_count": 587,
   "id": "63d278b9",
   "metadata": {},
   "outputs": [
    {
     "data": {
      "text/html": [
       "<div>\n",
       "<style scoped>\n",
       "    .dataframe tbody tr th:only-of-type {\n",
       "        vertical-align: middle;\n",
       "    }\n",
       "\n",
       "    .dataframe tbody tr th {\n",
       "        vertical-align: top;\n",
       "    }\n",
       "\n",
       "    .dataframe thead th {\n",
       "        text-align: right;\n",
       "    }\n",
       "</style>\n",
       "<table border=\"1\" class=\"dataframe\">\n",
       "  <thead>\n",
       "    <tr style=\"text-align: right;\">\n",
       "      <th></th>\n",
       "      <th>UserID</th>\n",
       "      <th>movie id</th>\n",
       "      <th>Rating</th>\n",
       "    </tr>\n",
       "  </thead>\n",
       "  <tbody>\n",
       "    <tr>\n",
       "      <th>73007</th>\n",
       "      <td>62</td>\n",
       "      <td>217</td>\n",
       "      <td>2</td>\n",
       "    </tr>\n",
       "    <tr>\n",
       "      <th>99386</th>\n",
       "      <td>868</td>\n",
       "      <td>211</td>\n",
       "      <td>3</td>\n",
       "    </tr>\n",
       "    <tr>\n",
       "      <th>35554</th>\n",
       "      <td>622</td>\n",
       "      <td>845</td>\n",
       "      <td>3</td>\n",
       "    </tr>\n",
       "    <tr>\n",
       "      <th>38337</th>\n",
       "      <td>481</td>\n",
       "      <td>427</td>\n",
       "      <td>4</td>\n",
       "    </tr>\n",
       "    <tr>\n",
       "      <th>53507</th>\n",
       "      <td>534</td>\n",
       "      <td>405</td>\n",
       "      <td>3</td>\n",
       "    </tr>\n",
       "    <tr>\n",
       "      <th>...</th>\n",
       "      <td>...</td>\n",
       "      <td>...</td>\n",
       "      <td>...</td>\n",
       "    </tr>\n",
       "    <tr>\n",
       "      <th>26653</th>\n",
       "      <td>263</td>\n",
       "      <td>87</td>\n",
       "      <td>4</td>\n",
       "    </tr>\n",
       "    <tr>\n",
       "      <th>63552</th>\n",
       "      <td>291</td>\n",
       "      <td>173</td>\n",
       "      <td>5</td>\n",
       "    </tr>\n",
       "    <tr>\n",
       "      <th>36562</th>\n",
       "      <td>605</td>\n",
       "      <td>180</td>\n",
       "      <td>4</td>\n",
       "    </tr>\n",
       "    <tr>\n",
       "      <th>75056</th>\n",
       "      <td>825</td>\n",
       "      <td>593</td>\n",
       "      <td>3</td>\n",
       "    </tr>\n",
       "    <tr>\n",
       "      <th>89502</th>\n",
       "      <td>747</td>\n",
       "      <td>192</td>\n",
       "      <td>5</td>\n",
       "    </tr>\n",
       "  </tbody>\n",
       "</table>\n",
       "<p>4000 rows × 3 columns</p>\n",
       "</div>"
      ],
      "text/plain": [
       "       UserID  movie id  Rating\n",
       "73007      62       217       2\n",
       "99386     868       211       3\n",
       "35554     622       845       3\n",
       "38337     481       427       4\n",
       "53507     534       405       3\n",
       "...       ...       ...     ...\n",
       "26653     263        87       4\n",
       "63552     291       173       5\n",
       "36562     605       180       4\n",
       "75056     825       593       3\n",
       "89502     747       192       5\n",
       "\n",
       "[4000 rows x 3 columns]"
      ]
     },
     "execution_count": 587,
     "metadata": {},
     "output_type": "execute_result"
    }
   ],
   "source": [
    "from sklearn.model_selection import train_test_split\n",
    "train_data, test_data = train_test_split(small_data, test_size=0.2)\n",
    "train_data"
   ]
  },
  {
   "cell_type": "code",
   "execution_count": 588,
   "id": "97c5f89f",
   "metadata": {},
   "outputs": [
    {
     "name": "stdout",
     "output_type": "stream",
     "text": [
      "(4000, 3)\n",
      "(1000, 3)\n"
     ]
    },
    {
     "data": {
      "text/plain": [
       "array([[ 62, 217,   2],\n",
       "       [868, 211,   3],\n",
       "       [622, 845,   3],\n",
       "       ...,\n",
       "       [605, 180,   4],\n",
       "       [825, 593,   3],\n",
       "       [747, 192,   5]], dtype=int64)"
      ]
     },
     "execution_count": 588,
     "metadata": {},
     "output_type": "execute_result"
    }
   ],
   "source": [
    "# Created 2 matrices for train_data and test_data\n",
    "train_data_matrix = train_data[['UserID', 'movie id', 'Rating']].values\n",
    "test_data_matrix = test_data[['UserID', 'movie id', 'Rating']].values\n",
    "\n",
    "\n",
    "print(train_data_matrix.shape)\n",
    "print(test_data_matrix.shape)\n",
    "train_data_matrix"
   ]
  },
  {
   "cell_type": "code",
   "execution_count": 589,
   "id": "3507fba6",
   "metadata": {},
   "outputs": [
    {
     "name": "stdout",
     "output_type": "stream",
     "text": [
      "[[ 1.         -0.01735167  0.8703318   0.63951374  0.5331876 ]\n",
      " [-0.01735167  1.          0.47728994  0.75756729  0.83661797]\n",
      " [ 0.8703318   0.47728994  1.          0.93518684  0.88067473]\n",
      " [ 0.63951374  0.75756729  0.93518684  1.          0.99136611]\n",
      " [ 0.5331876   0.83661797  0.88067473  0.99136611  1.        ]]\n"
     ]
    },
    {
     "data": {
      "text/plain": [
       "(4000, 4000)"
      ]
     },
     "execution_count": 589,
     "metadata": {},
     "output_type": "execute_result"
    }
   ],
   "source": [
    "from sklearn.metrics.pairwise import pairwise_distances\n",
    "import numpy as np\n",
    "\n",
    "# calculated user similarity matrix by using pairwise_distances\n",
    "user_matrix = 1 - pairwise_distances(train_data, metric='correlation')\n",
    "user_matrix[np.isnan(user_matrix)] = 0\n",
    "print(user_matrix[:5, :5])\n",
    "user_matrix.shape"
   ]
  },
  {
   "cell_type": "code",
   "execution_count": 590,
   "id": "64027b28",
   "metadata": {},
   "outputs": [
    {
     "name": "stdout",
     "output_type": "stream",
     "text": [
      "[[ 1.          0.02099603 -0.02070099]\n",
      " [ 0.02099603  1.         -0.19171211]\n",
      " [-0.02070099 -0.19171211  1.        ]]\n"
     ]
    },
    {
     "data": {
      "text/plain": [
       "(3, 3)"
      ]
     },
     "execution_count": 590,
     "metadata": {},
     "output_type": "execute_result"
    }
   ],
   "source": [
    "# calculated items similarity matrix by using pairwise_distances\n",
    "item_matrix = 1 - pairwise_distances(train_data_matrix.T, metric='correlation')\n",
    "item_matrix[np.isnan(item_matrix)] = 0\n",
    "print(item_matrix[:5, :5])\n",
    "item_matrix.shape"
   ]
  },
  {
   "cell_type": "code",
   "execution_count": 591,
   "id": "b7dd9ca7",
   "metadata": {},
   "outputs": [],
   "source": [
    "# predicting ratings so that we can compare between the ouptut of this model and given ratings(test_data)\n",
    "def predict_rating(dataset, similarity, type='user'):\n",
    "    if type == 'user':\n",
    "        mean_user_rating = dataset.mean(axis=1)\n",
    "        ratings_diff = (dataset - mean_user_rating[:, np.newaxis])\n",
    "        pred = mean_user_rating[:, np.newaxis] + similarity.dot(ratings_diff) / np.array([np.abs(similarity).sum(axis=1)]).T\n",
    "    elif type == 'item':\n",
    "        pred = dataset.dot(similarity) / np.array([np.abs(similarity).sum(axis=1)])\n",
    "        \n",
    "    return pred"
   ]
  },
  {
   "cell_type": "code",
   "execution_count": 592,
   "id": "a594312f",
   "metadata": {},
   "outputs": [],
   "source": [
    "from sklearn.metrics import mean_squared_error\n",
    "from math import sqrt\n",
    "\n",
    "# calculated rmse error between rating of datasets and predicted rating for given model\n",
    "def rmse(pred, actual_ratings):\n",
    "    pred = pred[actual_ratings.nonzero()].flatten()\n",
    "    actual_ratings = actual_ratings[actual_ratings.nonzero()].flatten()\n",
    "    return sqrt(mean_squared_error(pred, actual_ratings))"
   ]
  },
  {
   "cell_type": "code",
   "execution_count": 593,
   "id": "e37a9077",
   "metadata": {},
   "outputs": [
    {
     "name": "stdout",
     "output_type": "stream",
     "text": [
      "User-based RMSE: 308.4716407252331\n",
      "Item-based RMSE: 347.3650782145119\n"
     ]
    }
   ],
   "source": [
    "# Predicted ratings on the training data with both similarity score\n",
    "user_prediction = predict_rating(train_data_matrix, user_matrix, type='user')\n",
    "item_prediction = predict_rating(train_data_matrix, item_matrix, type='item')\n",
    "\n",
    "# RMSE on the test data\n",
    "print('User-based RMSE: ' + str(rmse(user_prediction, test_data_matrix)))\n",
    "print('Item-based RMSE: ' + str(rmse(item_prediction, test_data_matrix)))"
   ]
  },
  {
   "cell_type": "code",
   "execution_count": 594,
   "id": "18ef4f95",
   "metadata": {},
   "outputs": [
    {
     "name": "stdout",
     "output_type": "stream",
     "text": [
      "User-based RMSE: 140.82374001094013\n",
      "Item-based RMSE: 74.6791526928428\n"
     ]
    }
   ],
   "source": [
    "# RMSE on the train data\n",
    "print('User-based RMSE: ' + str(rmse(user_prediction, train_data_matrix)))\n",
    "print('Item-based RMSE: ' + str(rmse(item_prediction, train_data_matrix)))"
   ]
  },
  {
   "cell_type": "markdown",
   "id": "1f0c36db",
   "metadata": {},
   "source": [
    "As we can see there is very huge error by using simple training model , so now we use KNN model"
   ]
  },
  {
   "cell_type": "markdown",
   "id": "66438020",
   "metadata": {},
   "source": [
    "### Training KNN Model for Item-Based Collaborative recommendation system"
   ]
  },
  {
   "cell_type": "code",
   "execution_count": 595,
   "id": "ce5b9923",
   "metadata": {},
   "outputs": [
    {
     "data": {
      "text/plain": [
       "(100000, 4)"
      ]
     },
     "execution_count": 595,
     "metadata": {},
     "output_type": "execute_result"
    }
   ],
   "source": [
    "merge_dataset=pd.merge(data,items_dataset,on=\"movie id\")\n",
    "merge_dataset=merge_dataset[['movie id','movie title','UserID','Rating']]\n",
    "merge_dataset.shape"
   ]
  },
  {
   "cell_type": "code",
   "execution_count": 596,
   "id": "a93b9251",
   "metadata": {},
   "outputs": [
    {
     "data": {
      "text/html": [
       "<div>\n",
       "<style scoped>\n",
       "    .dataframe tbody tr th:only-of-type {\n",
       "        vertical-align: middle;\n",
       "    }\n",
       "\n",
       "    .dataframe tbody tr th {\n",
       "        vertical-align: top;\n",
       "    }\n",
       "\n",
       "    .dataframe thead th {\n",
       "        text-align: right;\n",
       "    }\n",
       "</style>\n",
       "<table border=\"1\" class=\"dataframe\">\n",
       "  <thead>\n",
       "    <tr style=\"text-align: right;\">\n",
       "      <th></th>\n",
       "      <th>movie id</th>\n",
       "      <th>movie title</th>\n",
       "      <th>UserID</th>\n",
       "      <th>Rating</th>\n",
       "    </tr>\n",
       "  </thead>\n",
       "  <tbody>\n",
       "    <tr>\n",
       "      <th>0</th>\n",
       "      <td>242</td>\n",
       "      <td>Kolya (1996)</td>\n",
       "      <td>196</td>\n",
       "      <td>3</td>\n",
       "    </tr>\n",
       "    <tr>\n",
       "      <th>1</th>\n",
       "      <td>242</td>\n",
       "      <td>Kolya (1996)</td>\n",
       "      <td>63</td>\n",
       "      <td>3</td>\n",
       "    </tr>\n",
       "    <tr>\n",
       "      <th>2</th>\n",
       "      <td>242</td>\n",
       "      <td>Kolya (1996)</td>\n",
       "      <td>226</td>\n",
       "      <td>5</td>\n",
       "    </tr>\n",
       "    <tr>\n",
       "      <th>3</th>\n",
       "      <td>242</td>\n",
       "      <td>Kolya (1996)</td>\n",
       "      <td>154</td>\n",
       "      <td>3</td>\n",
       "    </tr>\n",
       "    <tr>\n",
       "      <th>4</th>\n",
       "      <td>242</td>\n",
       "      <td>Kolya (1996)</td>\n",
       "      <td>306</td>\n",
       "      <td>5</td>\n",
       "    </tr>\n",
       "  </tbody>\n",
       "</table>\n",
       "</div>"
      ],
      "text/plain": [
       "   movie id   movie title  UserID  Rating\n",
       "0       242  Kolya (1996)     196       3\n",
       "1       242  Kolya (1996)      63       3\n",
       "2       242  Kolya (1996)     226       5\n",
       "3       242  Kolya (1996)     154       3\n",
       "4       242  Kolya (1996)     306       5"
      ]
     },
     "execution_count": 596,
     "metadata": {},
     "output_type": "execute_result"
    }
   ],
   "source": [
    "merge_dataset.head()"
   ]
  },
  {
   "cell_type": "code",
   "execution_count": 597,
   "id": "5d27fdfd",
   "metadata": {
    "scrolled": true
   },
   "outputs": [
    {
     "data": {
      "text/html": [
       "<div>\n",
       "<style scoped>\n",
       "    .dataframe tbody tr th:only-of-type {\n",
       "        vertical-align: middle;\n",
       "    }\n",
       "\n",
       "    .dataframe tbody tr th {\n",
       "        vertical-align: top;\n",
       "    }\n",
       "\n",
       "    .dataframe thead th {\n",
       "        text-align: right;\n",
       "    }\n",
       "</style>\n",
       "<table border=\"1\" class=\"dataframe\">\n",
       "  <thead>\n",
       "    <tr style=\"text-align: right;\">\n",
       "      <th></th>\n",
       "      <th>UserID</th>\n",
       "      <th>movie title</th>\n",
       "      <th>Rating</th>\n",
       "    </tr>\n",
       "  </thead>\n",
       "  <tbody>\n",
       "    <tr>\n",
       "      <th>0</th>\n",
       "      <td>1</td>\n",
       "      <td>101 Dalmatians (1996)</td>\n",
       "      <td>2.0</td>\n",
       "    </tr>\n",
       "    <tr>\n",
       "      <th>1</th>\n",
       "      <td>1</td>\n",
       "      <td>12 Angry Men (1957)</td>\n",
       "      <td>5.0</td>\n",
       "    </tr>\n",
       "    <tr>\n",
       "      <th>2</th>\n",
       "      <td>1</td>\n",
       "      <td>20,000 Leagues Under the Sea (1954)</td>\n",
       "      <td>3.0</td>\n",
       "    </tr>\n",
       "    <tr>\n",
       "      <th>3</th>\n",
       "      <td>1</td>\n",
       "      <td>2001: A Space Odyssey (1968)</td>\n",
       "      <td>4.0</td>\n",
       "    </tr>\n",
       "    <tr>\n",
       "      <th>4</th>\n",
       "      <td>1</td>\n",
       "      <td>Abyss, The (1989)</td>\n",
       "      <td>3.0</td>\n",
       "    </tr>\n",
       "    <tr>\n",
       "      <th>...</th>\n",
       "      <td>...</td>\n",
       "      <td>...</td>\n",
       "      <td>...</td>\n",
       "    </tr>\n",
       "    <tr>\n",
       "      <th>99688</th>\n",
       "      <td>943</td>\n",
       "      <td>Wizard of Oz, The (1939)</td>\n",
       "      <td>3.0</td>\n",
       "    </tr>\n",
       "    <tr>\n",
       "      <th>99689</th>\n",
       "      <td>943</td>\n",
       "      <td>Wolf (1994)</td>\n",
       "      <td>2.0</td>\n",
       "    </tr>\n",
       "    <tr>\n",
       "      <th>99690</th>\n",
       "      <td>943</td>\n",
       "      <td>Wyatt Earp (1994)</td>\n",
       "      <td>1.0</td>\n",
       "    </tr>\n",
       "    <tr>\n",
       "      <th>99691</th>\n",
       "      <td>943</td>\n",
       "      <td>Young Guns (1988)</td>\n",
       "      <td>4.0</td>\n",
       "    </tr>\n",
       "    <tr>\n",
       "      <th>99692</th>\n",
       "      <td>943</td>\n",
       "      <td>Young Guns II (1990)</td>\n",
       "      <td>3.0</td>\n",
       "    </tr>\n",
       "  </tbody>\n",
       "</table>\n",
       "<p>99693 rows × 3 columns</p>\n",
       "</div>"
      ],
      "text/plain": [
       "       UserID                          movie title  Rating\n",
       "0           1                101 Dalmatians (1996)     2.0\n",
       "1           1                  12 Angry Men (1957)     5.0\n",
       "2           1  20,000 Leagues Under the Sea (1954)     3.0\n",
       "3           1         2001: A Space Odyssey (1968)     4.0\n",
       "4           1                    Abyss, The (1989)     3.0\n",
       "...       ...                                  ...     ...\n",
       "99688     943             Wizard of Oz, The (1939)     3.0\n",
       "99689     943                          Wolf (1994)     2.0\n",
       "99690     943                    Wyatt Earp (1994)     1.0\n",
       "99691     943                    Young Guns (1988)     4.0\n",
       "99692     943                 Young Guns II (1990)     3.0\n",
       "\n",
       "[99693 rows x 3 columns]"
      ]
     },
     "execution_count": 597,
     "metadata": {},
     "output_type": "execute_result"
    }
   ],
   "source": [
    "refined_dataset = merge_dataset.groupby(by=['UserID','movie title'], as_index=False).agg({\"Rating\":\"mean\"})\n",
    "\n",
    "refined_dataset"
   ]
  },
  {
   "cell_type": "code",
   "execution_count": 598,
   "id": "e738e166",
   "metadata": {},
   "outputs": [
    {
     "data": {
      "text/plain": [
       "(99693, 3)"
      ]
     },
     "execution_count": 598,
     "metadata": {},
     "output_type": "execute_result"
    }
   ],
   "source": [
    "refined_dataset.shape"
   ]
  },
  {
   "cell_type": "code",
   "execution_count": 599,
   "id": "679915c5",
   "metadata": {
    "scrolled": true
   },
   "outputs": [
    {
     "data": {
      "text/html": [
       "<div>\n",
       "<style scoped>\n",
       "    .dataframe tbody tr th:only-of-type {\n",
       "        vertical-align: middle;\n",
       "    }\n",
       "\n",
       "    .dataframe tbody tr th {\n",
       "        vertical-align: top;\n",
       "    }\n",
       "\n",
       "    .dataframe thead th {\n",
       "        text-align: right;\n",
       "    }\n",
       "</style>\n",
       "<table border=\"1\" class=\"dataframe\">\n",
       "  <thead>\n",
       "    <tr style=\"text-align: right;\">\n",
       "      <th>movie title</th>\n",
       "      <th>'Til There Was You (1997)</th>\n",
       "      <th>1-900 (1994)</th>\n",
       "      <th>101 Dalmatians (1996)</th>\n",
       "      <th>12 Angry Men (1957)</th>\n",
       "      <th>187 (1997)</th>\n",
       "      <th>2 Days in the Valley (1996)</th>\n",
       "      <th>20,000 Leagues Under the Sea (1954)</th>\n",
       "      <th>2001: A Space Odyssey (1968)</th>\n",
       "      <th>3 Ninjas: High Noon At Mega Mountain (1998)</th>\n",
       "      <th>39 Steps, The (1935)</th>\n",
       "      <th>...</th>\n",
       "      <th>Yankee Zulu (1994)</th>\n",
       "      <th>Year of the Horse (1997)</th>\n",
       "      <th>You So Crazy (1994)</th>\n",
       "      <th>Young Frankenstein (1974)</th>\n",
       "      <th>Young Guns (1988)</th>\n",
       "      <th>Young Guns II (1990)</th>\n",
       "      <th>Young Poisoner's Handbook, The (1995)</th>\n",
       "      <th>Zeus and Roxanne (1997)</th>\n",
       "      <th>unknown</th>\n",
       "      <th>Á köldum klaka (Cold Fever) (1994)</th>\n",
       "    </tr>\n",
       "    <tr>\n",
       "      <th>UserID</th>\n",
       "      <th></th>\n",
       "      <th></th>\n",
       "      <th></th>\n",
       "      <th></th>\n",
       "      <th></th>\n",
       "      <th></th>\n",
       "      <th></th>\n",
       "      <th></th>\n",
       "      <th></th>\n",
       "      <th></th>\n",
       "      <th></th>\n",
       "      <th></th>\n",
       "      <th></th>\n",
       "      <th></th>\n",
       "      <th></th>\n",
       "      <th></th>\n",
       "      <th></th>\n",
       "      <th></th>\n",
       "      <th></th>\n",
       "      <th></th>\n",
       "      <th></th>\n",
       "    </tr>\n",
       "  </thead>\n",
       "  <tbody>\n",
       "    <tr>\n",
       "      <th>1</th>\n",
       "      <td>0.0</td>\n",
       "      <td>0.0</td>\n",
       "      <td>2.0</td>\n",
       "      <td>5.0</td>\n",
       "      <td>0.0</td>\n",
       "      <td>0.0</td>\n",
       "      <td>3.0</td>\n",
       "      <td>4.0</td>\n",
       "      <td>0.0</td>\n",
       "      <td>0.0</td>\n",
       "      <td>...</td>\n",
       "      <td>0.0</td>\n",
       "      <td>0.0</td>\n",
       "      <td>0.0</td>\n",
       "      <td>5.0</td>\n",
       "      <td>3.0</td>\n",
       "      <td>0.0</td>\n",
       "      <td>0.0</td>\n",
       "      <td>0.0</td>\n",
       "      <td>4.0</td>\n",
       "      <td>0.0</td>\n",
       "    </tr>\n",
       "    <tr>\n",
       "      <th>2</th>\n",
       "      <td>0.0</td>\n",
       "      <td>0.0</td>\n",
       "      <td>0.0</td>\n",
       "      <td>0.0</td>\n",
       "      <td>0.0</td>\n",
       "      <td>0.0</td>\n",
       "      <td>0.0</td>\n",
       "      <td>0.0</td>\n",
       "      <td>1.0</td>\n",
       "      <td>0.0</td>\n",
       "      <td>...</td>\n",
       "      <td>0.0</td>\n",
       "      <td>0.0</td>\n",
       "      <td>0.0</td>\n",
       "      <td>0.0</td>\n",
       "      <td>0.0</td>\n",
       "      <td>0.0</td>\n",
       "      <td>0.0</td>\n",
       "      <td>0.0</td>\n",
       "      <td>0.0</td>\n",
       "      <td>0.0</td>\n",
       "    </tr>\n",
       "    <tr>\n",
       "      <th>3</th>\n",
       "      <td>0.0</td>\n",
       "      <td>0.0</td>\n",
       "      <td>0.0</td>\n",
       "      <td>0.0</td>\n",
       "      <td>2.0</td>\n",
       "      <td>0.0</td>\n",
       "      <td>0.0</td>\n",
       "      <td>0.0</td>\n",
       "      <td>0.0</td>\n",
       "      <td>0.0</td>\n",
       "      <td>...</td>\n",
       "      <td>0.0</td>\n",
       "      <td>0.0</td>\n",
       "      <td>0.0</td>\n",
       "      <td>0.0</td>\n",
       "      <td>0.0</td>\n",
       "      <td>0.0</td>\n",
       "      <td>0.0</td>\n",
       "      <td>0.0</td>\n",
       "      <td>0.0</td>\n",
       "      <td>0.0</td>\n",
       "    </tr>\n",
       "    <tr>\n",
       "      <th>4</th>\n",
       "      <td>0.0</td>\n",
       "      <td>0.0</td>\n",
       "      <td>0.0</td>\n",
       "      <td>0.0</td>\n",
       "      <td>0.0</td>\n",
       "      <td>0.0</td>\n",
       "      <td>0.0</td>\n",
       "      <td>0.0</td>\n",
       "      <td>0.0</td>\n",
       "      <td>0.0</td>\n",
       "      <td>...</td>\n",
       "      <td>0.0</td>\n",
       "      <td>0.0</td>\n",
       "      <td>0.0</td>\n",
       "      <td>0.0</td>\n",
       "      <td>0.0</td>\n",
       "      <td>0.0</td>\n",
       "      <td>0.0</td>\n",
       "      <td>0.0</td>\n",
       "      <td>0.0</td>\n",
       "      <td>0.0</td>\n",
       "    </tr>\n",
       "    <tr>\n",
       "      <th>5</th>\n",
       "      <td>0.0</td>\n",
       "      <td>0.0</td>\n",
       "      <td>2.0</td>\n",
       "      <td>0.0</td>\n",
       "      <td>0.0</td>\n",
       "      <td>0.0</td>\n",
       "      <td>0.0</td>\n",
       "      <td>4.0</td>\n",
       "      <td>0.0</td>\n",
       "      <td>0.0</td>\n",
       "      <td>...</td>\n",
       "      <td>0.0</td>\n",
       "      <td>0.0</td>\n",
       "      <td>0.0</td>\n",
       "      <td>4.0</td>\n",
       "      <td>0.0</td>\n",
       "      <td>0.0</td>\n",
       "      <td>0.0</td>\n",
       "      <td>0.0</td>\n",
       "      <td>4.0</td>\n",
       "      <td>0.0</td>\n",
       "    </tr>\n",
       "  </tbody>\n",
       "</table>\n",
       "<p>5 rows × 1664 columns</p>\n",
       "</div>"
      ],
      "text/plain": [
       "movie title  'Til There Was You (1997)  1-900 (1994)  101 Dalmatians (1996)  \\\n",
       "UserID                                                                        \n",
       "1                                  0.0           0.0                    2.0   \n",
       "2                                  0.0           0.0                    0.0   \n",
       "3                                  0.0           0.0                    0.0   \n",
       "4                                  0.0           0.0                    0.0   \n",
       "5                                  0.0           0.0                    2.0   \n",
       "\n",
       "movie title  12 Angry Men (1957)  187 (1997)  2 Days in the Valley (1996)  \\\n",
       "UserID                                                                      \n",
       "1                            5.0         0.0                          0.0   \n",
       "2                            0.0         0.0                          0.0   \n",
       "3                            0.0         2.0                          0.0   \n",
       "4                            0.0         0.0                          0.0   \n",
       "5                            0.0         0.0                          0.0   \n",
       "\n",
       "movie title  20,000 Leagues Under the Sea (1954)  \\\n",
       "UserID                                             \n",
       "1                                            3.0   \n",
       "2                                            0.0   \n",
       "3                                            0.0   \n",
       "4                                            0.0   \n",
       "5                                            0.0   \n",
       "\n",
       "movie title  2001: A Space Odyssey (1968)  \\\n",
       "UserID                                      \n",
       "1                                     4.0   \n",
       "2                                     0.0   \n",
       "3                                     0.0   \n",
       "4                                     0.0   \n",
       "5                                     4.0   \n",
       "\n",
       "movie title  3 Ninjas: High Noon At Mega Mountain (1998)  \\\n",
       "UserID                                                     \n",
       "1                                                    0.0   \n",
       "2                                                    1.0   \n",
       "3                                                    0.0   \n",
       "4                                                    0.0   \n",
       "5                                                    0.0   \n",
       "\n",
       "movie title  39 Steps, The (1935)  ...  Yankee Zulu (1994)  \\\n",
       "UserID                             ...                       \n",
       "1                             0.0  ...                 0.0   \n",
       "2                             0.0  ...                 0.0   \n",
       "3                             0.0  ...                 0.0   \n",
       "4                             0.0  ...                 0.0   \n",
       "5                             0.0  ...                 0.0   \n",
       "\n",
       "movie title  Year of the Horse (1997)  You So Crazy (1994)  \\\n",
       "UserID                                                       \n",
       "1                                 0.0                  0.0   \n",
       "2                                 0.0                  0.0   \n",
       "3                                 0.0                  0.0   \n",
       "4                                 0.0                  0.0   \n",
       "5                                 0.0                  0.0   \n",
       "\n",
       "movie title  Young Frankenstein (1974)  Young Guns (1988)  \\\n",
       "UserID                                                      \n",
       "1                                  5.0                3.0   \n",
       "2                                  0.0                0.0   \n",
       "3                                  0.0                0.0   \n",
       "4                                  0.0                0.0   \n",
       "5                                  4.0                0.0   \n",
       "\n",
       "movie title  Young Guns II (1990)  Young Poisoner's Handbook, The (1995)  \\\n",
       "UserID                                                                     \n",
       "1                             0.0                                    0.0   \n",
       "2                             0.0                                    0.0   \n",
       "3                             0.0                                    0.0   \n",
       "4                             0.0                                    0.0   \n",
       "5                             0.0                                    0.0   \n",
       "\n",
       "movie title  Zeus and Roxanne (1997)  unknown  \\\n",
       "UserID                                          \n",
       "1                                0.0      4.0   \n",
       "2                                0.0      0.0   \n",
       "3                                0.0      0.0   \n",
       "4                                0.0      0.0   \n",
       "5                                0.0      4.0   \n",
       "\n",
       "movie title  Á köldum klaka (Cold Fever) (1994)  \n",
       "UserID                                           \n",
       "1                                           0.0  \n",
       "2                                           0.0  \n",
       "3                                           0.0  \n",
       "4                                           0.0  \n",
       "5                                           0.0  \n",
       "\n",
       "[5 rows x 1664 columns]"
      ]
     },
     "execution_count": 599,
     "metadata": {},
     "output_type": "execute_result"
    }
   ],
   "source": [
    "# created movie-user dataframe\n",
    "movie_user = refined_dataset.pivot(\n",
    "    index='UserID',\n",
    "     columns='movie title',\n",
    "      values='Rating').fillna(0)\n",
    "\n",
    "movie_user.head()"
   ]
  },
  {
   "cell_type": "code",
   "execution_count": 600,
   "id": "b5232078",
   "metadata": {},
   "outputs": [
    {
     "data": {
      "text/plain": [
       "(943, 1664)"
      ]
     },
     "execution_count": 600,
     "metadata": {},
     "output_type": "execute_result"
    }
   ],
   "source": [
    "movie_user.shape"
   ]
  },
  {
   "cell_type": "code",
   "execution_count": 601,
   "id": "1b369352",
   "metadata": {},
   "outputs": [
    {
     "name": "stdout",
     "output_type": "stream",
     "text": [
      "Requirement already satisfied: scipy in d:\\anaconda\\lib\\site-packages (1.10.0)Note: you may need to restart the kernel to use updated packages.\n",
      "\n",
      "Requirement already satisfied: numpy<1.27.0,>=1.19.5 in d:\\anaconda\\lib\\site-packages (from scipy) (1.23.5)\n"
     ]
    }
   ],
   "source": [
    "pip install scipy"
   ]
  },
  {
   "cell_type": "code",
   "execution_count": 602,
   "id": "7ab88d6f",
   "metadata": {
    "scrolled": true
   },
   "outputs": [
    {
     "data": {
      "text/plain": [
       "<943x1664 sparse matrix of type '<class 'numpy.float64'>'\n",
       "\twith 99693 stored elements in Compressed Sparse Row format>"
      ]
     },
     "execution_count": 602,
     "metadata": {},
     "output_type": "execute_result"
    }
   ],
   "source": [
    "# transformed matrix to scipy sparse matrix for save memory \n",
    "from scipy.sparse import csr_matrix\n",
    "movie_user_sparse = csr_matrix(movie_user.values)\n",
    "movie_user_sparse"
   ]
  },
  {
   "cell_type": "markdown",
   "id": "c4cb3711",
   "metadata": {},
   "source": [
    "#### Fitting K-Nearest Neighbours model to the sparse matrix: "
   ]
  },
  {
   "cell_type": "code",
   "execution_count": 603,
   "id": "d658b560",
   "metadata": {},
   "outputs": [
    {
     "data": {
      "text/html": [
       "<style>#sk-container-id-6 {color: black;background-color: white;}#sk-container-id-6 pre{padding: 0;}#sk-container-id-6 div.sk-toggleable {background-color: white;}#sk-container-id-6 label.sk-toggleable__label {cursor: pointer;display: block;width: 100%;margin-bottom: 0;padding: 0.3em;box-sizing: border-box;text-align: center;}#sk-container-id-6 label.sk-toggleable__label-arrow:before {content: \"▸\";float: left;margin-right: 0.25em;color: #696969;}#sk-container-id-6 label.sk-toggleable__label-arrow:hover:before {color: black;}#sk-container-id-6 div.sk-estimator:hover label.sk-toggleable__label-arrow:before {color: black;}#sk-container-id-6 div.sk-toggleable__content {max-height: 0;max-width: 0;overflow: hidden;text-align: left;background-color: #f0f8ff;}#sk-container-id-6 div.sk-toggleable__content pre {margin: 0.2em;color: black;border-radius: 0.25em;background-color: #f0f8ff;}#sk-container-id-6 input.sk-toggleable__control:checked~div.sk-toggleable__content {max-height: 200px;max-width: 100%;overflow: auto;}#sk-container-id-6 input.sk-toggleable__control:checked~label.sk-toggleable__label-arrow:before {content: \"▾\";}#sk-container-id-6 div.sk-estimator input.sk-toggleable__control:checked~label.sk-toggleable__label {background-color: #d4ebff;}#sk-container-id-6 div.sk-label input.sk-toggleable__control:checked~label.sk-toggleable__label {background-color: #d4ebff;}#sk-container-id-6 input.sk-hidden--visually {border: 0;clip: rect(1px 1px 1px 1px);clip: rect(1px, 1px, 1px, 1px);height: 1px;margin: -1px;overflow: hidden;padding: 0;position: absolute;width: 1px;}#sk-container-id-6 div.sk-estimator {font-family: monospace;background-color: #f0f8ff;border: 1px dotted black;border-radius: 0.25em;box-sizing: border-box;margin-bottom: 0.5em;}#sk-container-id-6 div.sk-estimator:hover {background-color: #d4ebff;}#sk-container-id-6 div.sk-parallel-item::after {content: \"\";width: 100%;border-bottom: 1px solid gray;flex-grow: 1;}#sk-container-id-6 div.sk-label:hover label.sk-toggleable__label {background-color: #d4ebff;}#sk-container-id-6 div.sk-serial::before {content: \"\";position: absolute;border-left: 1px solid gray;box-sizing: border-box;top: 0;bottom: 0;left: 50%;z-index: 0;}#sk-container-id-6 div.sk-serial {display: flex;flex-direction: column;align-items: center;background-color: white;padding-right: 0.2em;padding-left: 0.2em;position: relative;}#sk-container-id-6 div.sk-item {position: relative;z-index: 1;}#sk-container-id-6 div.sk-parallel {display: flex;align-items: stretch;justify-content: center;background-color: white;position: relative;}#sk-container-id-6 div.sk-item::before, #sk-container-id-6 div.sk-parallel-item::before {content: \"\";position: absolute;border-left: 1px solid gray;box-sizing: border-box;top: 0;bottom: 0;left: 50%;z-index: -1;}#sk-container-id-6 div.sk-parallel-item {display: flex;flex-direction: column;z-index: 1;position: relative;background-color: white;}#sk-container-id-6 div.sk-parallel-item:first-child::after {align-self: flex-end;width: 50%;}#sk-container-id-6 div.sk-parallel-item:last-child::after {align-self: flex-start;width: 50%;}#sk-container-id-6 div.sk-parallel-item:only-child::after {width: 0;}#sk-container-id-6 div.sk-dashed-wrapped {border: 1px dashed gray;margin: 0 0.4em 0.5em 0.4em;box-sizing: border-box;padding-bottom: 0.4em;background-color: white;}#sk-container-id-6 div.sk-label label {font-family: monospace;font-weight: bold;display: inline-block;line-height: 1.2em;}#sk-container-id-6 div.sk-label-container {text-align: center;}#sk-container-id-6 div.sk-container {/* jupyter's `normalize.less` sets `[hidden] { display: none; }` but bootstrap.min.css set `[hidden] { display: none !important; }` so we also need the `!important` here to be able to override the default hidden behavior on the sphinx rendered scikit-learn.org. See: https://github.com/scikit-learn/scikit-learn/issues/21755 */display: inline-block !important;position: relative;}#sk-container-id-6 div.sk-text-repr-fallback {display: none;}</style><div id=\"sk-container-id-6\" class=\"sk-top-container\"><div class=\"sk-text-repr-fallback\"><pre>NearestNeighbors(algorithm=&#x27;brute&#x27;, metric=&#x27;cosine&#x27;)</pre><b>In a Jupyter environment, please rerun this cell to show the HTML representation or trust the notebook. <br />On GitHub, the HTML representation is unable to render, please try loading this page with nbviewer.org.</b></div><div class=\"sk-container\" hidden><div class=\"sk-item\"><div class=\"sk-estimator sk-toggleable\"><input class=\"sk-toggleable__control sk-hidden--visually\" id=\"sk-estimator-id-6\" type=\"checkbox\" checked><label for=\"sk-estimator-id-6\" class=\"sk-toggleable__label sk-toggleable__label-arrow\">NearestNeighbors</label><div class=\"sk-toggleable__content\"><pre>NearestNeighbors(algorithm=&#x27;brute&#x27;, metric=&#x27;cosine&#x27;)</pre></div></div></div></div></div>"
      ],
      "text/plain": [
       "NearestNeighbors(algorithm='brute', metric='cosine')"
      ]
     },
     "execution_count": 603,
     "metadata": {},
     "output_type": "execute_result"
    }
   ],
   "source": [
    "from sklearn.neighbors import NearestNeighbors\n",
    "knn_model = NearestNeighbors(metric='cosine', algorithm='brute')\n",
    "knn_model.fit(movie_user_sparse)"
   ]
  },
  {
   "cell_type": "code",
   "execution_count": 604,
   "id": "84b75a25",
   "metadata": {},
   "outputs": [],
   "source": [
    "# first get similar users\n",
    "def similar_users(user, n): #takes user and number of similar users we want\n",
    "\n",
    "  input_user = np.asarray([movie_user.values[user-1]])  \n",
    "  distances, indices = knn_model.kneighbors(input_user, n_neighbors=n+1)\n",
    "  \n",
    "  print(\"Users similar to the input User-\",user, \"are: \")\n",
    "  print(\" \")\n",
    "  for i in range(1,len(distances[0])):\n",
    "    if distances[0][i]<=0.6: #setting threshold for better results only\n",
    "       print(i,\". User:\", indices[0][i]+1, \"separated by distance of\",distances[0][i])\n",
    "  return indices.flatten()[1:] + 1, distances.flatten()[1:]"
   ]
  },
  {
   "cell_type": "markdown",
   "id": "b1263e3e",
   "metadata": {},
   "source": [
    "#### Getting similar users and calculating distance among neighbours of input user"
   ]
  },
  {
   "cell_type": "code",
   "execution_count": 605,
   "id": "02111fe6",
   "metadata": {},
   "outputs": [
    {
     "name": "stdout",
     "output_type": "stream",
     "text": [
      "Enter user ID: 585\n",
      " Few of movies seen by the User:\n",
      "['8 1/2 (1963)',\n",
      " 'Angels and Insects (1995)',\n",
      " \"Antonia's Line (1995)\",\n",
      " 'Aparajito (1956)',\n",
      " 'Ballad of Narayama, The (Narayama Bushiko) (1958)',\n",
      " 'Before the Rain (Pred dozhdot) (1994)',\n",
      " 'Belle de jour (1967)',\n",
      " 'Bhaji on the Beach (1993)',\n",
      " 'Boogie Nights (1997)',\n",
      " 'Bread and Chocolate (Pane e cioccolata) (1973)']\n",
      "Top users who are very much similar to the User- 585 are: \n",
      " \n",
      "1 . User: 565 separated by distance of 0.47041692399507773\n",
      "2 . User: 855 separated by distance of 0.5736853554704022\n",
      "3 . User: 861 separated by distance of 0.5934084862288491\n",
      "4 . User: 828 separated by distance of 0.5976339445637332\n"
     ]
    }
   ],
   "source": [
    "from pprint import pprint\n",
    "user_id = int(input(\"Enter user ID: \"))\n",
    "print(\" Few of movies seen by the User:\")\n",
    "pprint(list(refined_dataset[refined_dataset['UserID'] == user_id]['movie title'])[:10])\n",
    "similar_user_list, distance_list = get_similar_users(user_id,10)"
   ]
  },
  {
   "cell_type": "code",
   "execution_count": 606,
   "id": "5237b1b2",
   "metadata": {},
   "outputs": [
    {
     "data": {
      "text/plain": [
       "(array([565, 855, 861, 828, 884, 894, 639, 829, 909, 354], dtype=int64),\n",
       " array([0.47041692, 0.57368536, 0.59340849, 0.59763394, 0.60676497,\n",
       "        0.6202157 , 0.63494282, 0.64994196, 0.67000252, 0.69733682]))"
      ]
     },
     "execution_count": 606,
     "metadata": {},
     "output_type": "execute_result"
    }
   ],
   "source": [
    "similar_user_list, distance_list"
   ]
  },
  {
   "cell_type": "code",
   "execution_count": 607,
   "id": "649b9f15",
   "metadata": {},
   "outputs": [
    {
     "data": {
      "text/plain": [
       "array([0.07693654, 0.09382607, 0.09705178, 0.09774285, 0.09923623,\n",
       "       0.10143609, 0.1038447 , 0.10629781, 0.10957871, 0.11404923])"
      ]
     },
     "execution_count": 607,
     "metadata": {},
     "output_type": "execute_result"
    }
   ],
   "source": [
    "weightage_list = distance_list/np.sum(distance_list)\n",
    "weightage_list"
   ]
  },
  {
   "cell_type": "code",
   "execution_count": 608,
   "id": "177a2503",
   "metadata": {},
   "outputs": [
    {
     "data": {
      "text/plain": [
       "array([[0., 0., 0., ..., 0., 0., 0.],\n",
       "       [0., 0., 0., ..., 0., 0., 0.],\n",
       "       [0., 0., 0., ..., 0., 0., 0.],\n",
       "       ...,\n",
       "       [0., 0., 3., ..., 0., 0., 0.],\n",
       "       [0., 0., 0., ..., 0., 0., 0.],\n",
       "       [0., 0., 0., ..., 0., 0., 0.]])"
      ]
     },
     "execution_count": 608,
     "metadata": {},
     "output_type": "execute_result"
    }
   ],
   "source": [
    "mov_rtngs_sim_users = movie_user.values[similar_user_list]\n",
    "mov_rtngs_sim_users"
   ]
  },
  {
   "cell_type": "code",
   "execution_count": 609,
   "id": "21ca27ec",
   "metadata": {},
   "outputs": [
    {
     "data": {
      "text/plain": [
       "Index([''Til There Was You (1997)', '1-900 (1994)', '101 Dalmatians (1996)',\n",
       "       '12 Angry Men (1957)', '187 (1997)', '2 Days in the Valley (1996)',\n",
       "       '20,000 Leagues Under the Sea (1954)', '2001: A Space Odyssey (1968)',\n",
       "       '3 Ninjas: High Noon At Mega Mountain (1998)', '39 Steps, The (1935)',\n",
       "       ...\n",
       "       'Yankee Zulu (1994)', 'Year of the Horse (1997)', 'You So Crazy (1994)',\n",
       "       'Young Frankenstein (1974)', 'Young Guns (1988)',\n",
       "       'Young Guns II (1990)', 'Young Poisoner's Handbook, The (1995)',\n",
       "       'Zeus and Roxanne (1997)', 'unknown',\n",
       "       'Á köldum klaka (Cold Fever) (1994)'],\n",
       "      dtype='object', name='movie title', length=1664)"
      ]
     },
     "execution_count": 609,
     "metadata": {},
     "output_type": "execute_result"
    }
   ],
   "source": [
    "movies_list = movie_user.columns\n",
    "movies_list"
   ]
  },
  {
   "cell_type": "markdown",
   "id": "3a942e44",
   "metadata": {},
   "source": [
    "#### Converting Weightage_list for being compatible with similar_user list for matrix operations"
   ]
  },
  {
   "cell_type": "code",
   "execution_count": 610,
   "id": "9929f0a8",
   "metadata": {},
   "outputs": [
    {
     "data": {
      "text/plain": [
       "array([[0.07693654, 0.07693654, 0.07693654, ..., 0.07693654, 0.07693654,\n",
       "        0.07693654],\n",
       "       [0.09382607, 0.09382607, 0.09382607, ..., 0.09382607, 0.09382607,\n",
       "        0.09382607],\n",
       "       [0.09705178, 0.09705178, 0.09705178, ..., 0.09705178, 0.09705178,\n",
       "        0.09705178],\n",
       "       ...,\n",
       "       [0.10629781, 0.10629781, 0.10629781, ..., 0.10629781, 0.10629781,\n",
       "        0.10629781],\n",
       "       [0.10957871, 0.10957871, 0.10957871, ..., 0.10957871, 0.10957871,\n",
       "        0.10957871],\n",
       "       [0.11404923, 0.11404923, 0.11404923, ..., 0.11404923, 0.11404923,\n",
       "        0.11404923]])"
      ]
     },
     "execution_count": 610,
     "metadata": {},
     "output_type": "execute_result"
    }
   ],
   "source": [
    "weightage_list = weightage_list[:,np.newaxis] + np.zeros(len(movies_list))\n",
    "weightage_list"
   ]
  },
  {
   "cell_type": "code",
   "execution_count": 611,
   "id": "958f3eef",
   "metadata": {},
   "outputs": [
    {
     "data": {
      "text/plain": [
       "array([0.        , 0.        , 0.61660211, ..., 0.        , 0.        ,\n",
       "       0.        ])"
      ]
     },
     "execution_count": 611,
     "metadata": {},
     "output_type": "execute_result"
    }
   ],
   "source": [
    "new_rating_matrix = weightage_list*mov_rtngs_sim_users\n",
    "mean_rating_list = new_rating_matrix.sum(axis =0)\n",
    "mean_rating_list"
   ]
  },
  {
   "cell_type": "code",
   "execution_count": 612,
   "id": "d958eaa6",
   "metadata": {},
   "outputs": [],
   "source": [
    "from pprint import pprint\n",
    "#this fuunction will recommend movie based on similar user\n",
    "def recommend_movies(n):\n",
    "  n = min(len(mean_rating_list),n)\n",
    "  pprint(list(movies_list[np.argsort(mean_rating_list)[::-1][:n]]))"
   ]
  },
  {
   "cell_type": "code",
   "execution_count": 613,
   "id": "58764fed",
   "metadata": {
    "scrolled": true
   },
   "outputs": [
    {
     "name": "stdout",
     "output_type": "stream",
     "text": [
      "Movies recommended based on similar users are: \n",
      "['Fargo (1996)',\n",
      " 'Indiana Jones and the Last Crusade (1989)',\n",
      " 'Raiders of the Lost Ark (1981)',\n",
      " 'Star Wars (1977)',\n",
      " 'Willy Wonka and the Chocolate Factory (1971)']\n"
     ]
    }
   ],
   "source": [
    "print(\"Movies recommended based on similar users are: \")\n",
    "recommend_movies(5)"
   ]
  },
  {
   "cell_type": "markdown",
   "id": "bf8d8a4b",
   "metadata": {},
   "source": [
    "#### This function filters the recommendation and  removes the movies which are already seen by the current user or not at all seen by any of the similar users."
   ]
  },
  {
   "cell_type": "code",
   "execution_count": 614,
   "id": "25a65c56",
   "metadata": {},
   "outputs": [],
   "source": [
    "def filtered_recommendations(n):\n",
    "  \n",
    "  zero_index = np.where(mean_rating_list == 0)[0][-1] #searching indices with zero rating\n",
    "  sorted_index = np.argsort(mean_rating_list)[::-1]\n",
    "  sorted_index = sorted_index[:list(sorted_index).index(zero_index)]\n",
    "  n = min(len(sorted_index),n)\n",
    "  movies_watched = list(refined_dataset[refined_dataset['UserID'] == user_id]['movie title'])\n",
    "  movie_list = list(movies_list[sorted_index])\n",
    "  count = 0\n",
    "  final_movie_list = []\n",
    "  for i in movie_list:\n",
    "    if i not in movies_watched:\n",
    "      count+=1\n",
    "      final_movie_list.append(i)\n",
    "    if count == n:\n",
    "      break\n",
    "  if count == 0:\n",
    "    print(\"Good Recommendation: \")\n",
    "  else:\n",
    "    pprint(final_movie_list)"
   ]
  },
  {
   "cell_type": "code",
   "execution_count": 615,
   "id": "357aa698",
   "metadata": {},
   "outputs": [
    {
     "name": "stdout",
     "output_type": "stream",
     "text": [
      "['Fargo (1996)',\n",
      " 'Indiana Jones and the Last Crusade (1989)',\n",
      " 'Raiders of the Lost Ark (1981)',\n",
      " 'Star Wars (1977)',\n",
      " 'Willy Wonka and the Chocolate Factory (1971)']\n"
     ]
    }
   ],
   "source": [
    "filtered_recommendations(5)"
   ]
  },
  {
   "cell_type": "markdown",
   "id": "c4268c35",
   "metadata": {},
   "source": [
    "# Hybrid Recommendation System by using different Content-Based System"
   ]
  },
  {
   "cell_type": "code",
   "execution_count": 616,
   "id": "4ba38788",
   "metadata": {},
   "outputs": [],
   "source": [
    "def hybrid_recommendations(title, genre_weight, popularity_weight, avg_rating_weight, top_n=10):\n",
    "    # converting genre_recommendations to list\n",
    "    genre_recs = list(genre_recommendations(title))\n",
    "\n",
    "    # Converting popularity-based recommendations to list\n",
    "    popularity_recs = popularity_recommendation()[popularity_recommendation()['Number of Users watched'] >= 400]['movie title'].tolist()\n",
    "\n",
    "    # Converting average-rating based recommendations to list\n",
    "    avg_rating_recs = avg_rating_recommendations()[avg_rating_recommendations()['avg rating'] >= 4.0]['movie title'].tolist()\n",
    "\n",
    "    # Combining recommendations using weighted averages\n",
    "    combined_recs = {}\n",
    "    for movie_title in genre_recs:\n",
    "        combined_recs[movie_title] = (\n",
    "            genre_weight * genre_recs.index(movie_title) +\n",
    "            popularity_weight * popularity_recs.count(movie_title) +\n",
    "            avg_rating_weight * avg_rating_recs.count(movie_title)\n",
    "        )\n",
    "\n",
    "    # Sort the combined recommendations by the weighted sum\n",
    "    sorted_recs = sorted(combined_recs.items(), key=lambda x: x[1], reverse=True)\n",
    "    sorted_recs = [x[0] for x in sorted_recs]\n",
    "\n",
    "    # Return the top N recommendations\n",
    "    return sorted_recs[:top_n]\n"
   ]
  },
  {
   "cell_type": "code",
   "execution_count": 617,
   "id": "2be54834",
   "metadata": {},
   "outputs": [
    {
     "name": "stdout",
     "output_type": "stream",
     "text": [
      "Enter movie for recommendation: Star Wars (1977)\n",
      "Hybrid Recommendations: \n",
      "['Return of the Jedi (1983)', 'Independence Day (ID4) (1996)', 'African Queen, The (1951)', 'Dr. Strangelove or: How I Learned to Stop Worrying and Love the Bomb (1963)', 'Empire Strikes Back, The (1980)', 'Big Blue, The (Grand bleu, Le) (1988)', 'Excess Baggage (1997)', 'Mars Attacks! (1996)', 'Starship Troopers (1997)', 'Cutthroat Island (1995)']\n"
     ]
    }
   ],
   "source": [
    "movie=str(input(\"Enter movie for recommendation: \"))\n",
    "recommended_movies = hybrid_recommendations(movie, genre_weight=0.01, popularity_weight=0.9, avg_rating_weight=0.09, top_n=10)\n",
    "print(\"Hybrid Recommendations: \")\n",
    "print(recommended_movies)"
   ]
  }
 ],
 "metadata": {
  "kernelspec": {
   "display_name": "Python 3 (ipykernel)",
   "language": "python",
   "name": "python3"
  },
  "language_info": {
   "codemirror_mode": {
    "name": "ipython",
    "version": 3
   },
   "file_extension": ".py",
   "mimetype": "text/x-python",
   "name": "python",
   "nbconvert_exporter": "python",
   "pygments_lexer": "ipython3",
   "version": "3.10.9"
  }
 },
 "nbformat": 4,
 "nbformat_minor": 5
}
